{
 "cells": [
  {
   "cell_type": "markdown",
   "source": [
    "Author: Shailendra Chalasani\n",
    "Intention: Supervised Learning Likes to dislikes ratio - Decision Trees"
   ],
   "metadata": {
    "collapsed": false
   }
  },
  {
   "cell_type": "code",
   "execution_count": 34,
   "outputs": [],
   "source": [
    "import gzip\n",
    "import json\n",
    "import matplotlib.pyplot as plt\n",
    "import numpy as np\n",
    "import re\n",
    "import seaborn as sns\n",
    "import pandas as pd\n",
    "from collections import Counter, defaultdict\n",
    "from sklearn.neighbors import KNeighborsRegressor\n",
    "from sklearn.dummy import DummyRegressor\n",
    "from sklearn.feature_extraction.text import TfidfVectorizer\n",
    "from sklearn.linear_model import LinearRegression\n",
    "from sklearn.metrics import mean_squared_error, r2_score\n",
    "from sklearn.model_selection import train_test_split\n",
    "from tqdm import tqdm\n",
    "\n",
    "from sklearn.pipeline import Pipeline\n",
    "from sklearn.compose import ColumnTransformer\n",
    "from sklearn.ensemble import RandomForestClassifier\n",
    "from sklearn.feature_extraction.text import TfidfVectorizer"
   ],
   "metadata": {
    "collapsed": false,
    "ExecuteTime": {
     "end_time": "2023-06-13T14:43:22.864644800Z",
     "start_time": "2023-06-13T14:43:22.863643500Z"
    }
   }
  },
  {
   "cell_type": "code",
   "execution_count": 35,
   "outputs": [
    {
     "name": "stdout",
     "output_type": "stream",
     "text": [
      "37422\n",
      "37264\n"
     ]
    }
   ],
   "source": [
    "df_video_dislikes = pd.read_csv(f\"../../data/cleaned_datasets/df_video_dislikes.csv\")\n",
    "print(len(df_video_dislikes))\n",
    "df_video_dislikes.dropna(inplace=True)\n",
    "print(len(df_video_dislikes))"
   ],
   "metadata": {
    "collapsed": false,
    "ExecuteTime": {
     "end_time": "2023-06-13T14:43:24.066945600Z",
     "start_time": "2023-06-13T14:43:22.866646100Z"
    }
   }
  },
  {
   "cell_type": "code",
   "execution_count": 36,
   "outputs": [
    {
     "data": {
      "text/plain": "Index(['Unnamed: 0.1', 'Unnamed: 0', 'video_id', 'title', 'published_at',\n       'view_count', 'likes_count', 'dislikes_count', 'comment_count', 'tags',\n       'description', 'comments', 'topic1', 'topic2', 'topic3'],\n      dtype='object')"
     },
     "execution_count": 36,
     "metadata": {},
     "output_type": "execute_result"
    }
   ],
   "source": [
    "df_video_dislikes.columns"
   ],
   "metadata": {
    "collapsed": false,
    "ExecuteTime": {
     "end_time": "2023-06-13T14:43:24.073571Z",
     "start_time": "2023-06-13T14:43:24.067946Z"
    }
   }
  },
  {
   "cell_type": "code",
   "execution_count": 37,
   "outputs": [
    {
     "data": {
      "text/plain": "       view_count  likes_count  dislikes_count  comment_count  topic1  topic2   \n0         1048888        19515             226           1319       2       9  \\\n1        15352638       359277            7479          18729       5       7   \n2          925281        11212             401            831       1       2   \n3         2641597        39131             441           3745       5       3   \n4          715724        32887             367           1067       5       0   \n...           ...          ...             ...            ...     ...     ...   \n37417   120408275      2180780           35871          81360       5       0   \n37418     2841917        20759            1049           2624       6       9   \n37419    13346678       720854            4426          90616       1       7   \n37420      252057        19198            1234           1471       9       8   \n37421     2252090        34063             868           2004       9       7   \n\n       topic3  \n0           3  \n1           1  \n2           9  \n3           7  \n4           1  \n...       ...  \n37417       8  \n37418       7  \n37419       8  \n37420       0  \n37421       1  \n\n[37264 rows x 7 columns]",
      "text/html": "<div>\n<style scoped>\n    .dataframe tbody tr th:only-of-type {\n        vertical-align: middle;\n    }\n\n    .dataframe tbody tr th {\n        vertical-align: top;\n    }\n\n    .dataframe thead th {\n        text-align: right;\n    }\n</style>\n<table border=\"1\" class=\"dataframe\">\n  <thead>\n    <tr style=\"text-align: right;\">\n      <th></th>\n      <th>view_count</th>\n      <th>likes_count</th>\n      <th>dislikes_count</th>\n      <th>comment_count</th>\n      <th>topic1</th>\n      <th>topic2</th>\n      <th>topic3</th>\n    </tr>\n  </thead>\n  <tbody>\n    <tr>\n      <th>0</th>\n      <td>1048888</td>\n      <td>19515</td>\n      <td>226</td>\n      <td>1319</td>\n      <td>2</td>\n      <td>9</td>\n      <td>3</td>\n    </tr>\n    <tr>\n      <th>1</th>\n      <td>15352638</td>\n      <td>359277</td>\n      <td>7479</td>\n      <td>18729</td>\n      <td>5</td>\n      <td>7</td>\n      <td>1</td>\n    </tr>\n    <tr>\n      <th>2</th>\n      <td>925281</td>\n      <td>11212</td>\n      <td>401</td>\n      <td>831</td>\n      <td>1</td>\n      <td>2</td>\n      <td>9</td>\n    </tr>\n    <tr>\n      <th>3</th>\n      <td>2641597</td>\n      <td>39131</td>\n      <td>441</td>\n      <td>3745</td>\n      <td>5</td>\n      <td>3</td>\n      <td>7</td>\n    </tr>\n    <tr>\n      <th>4</th>\n      <td>715724</td>\n      <td>32887</td>\n      <td>367</td>\n      <td>1067</td>\n      <td>5</td>\n      <td>0</td>\n      <td>1</td>\n    </tr>\n    <tr>\n      <th>...</th>\n      <td>...</td>\n      <td>...</td>\n      <td>...</td>\n      <td>...</td>\n      <td>...</td>\n      <td>...</td>\n      <td>...</td>\n    </tr>\n    <tr>\n      <th>37417</th>\n      <td>120408275</td>\n      <td>2180780</td>\n      <td>35871</td>\n      <td>81360</td>\n      <td>5</td>\n      <td>0</td>\n      <td>8</td>\n    </tr>\n    <tr>\n      <th>37418</th>\n      <td>2841917</td>\n      <td>20759</td>\n      <td>1049</td>\n      <td>2624</td>\n      <td>6</td>\n      <td>9</td>\n      <td>7</td>\n    </tr>\n    <tr>\n      <th>37419</th>\n      <td>13346678</td>\n      <td>720854</td>\n      <td>4426</td>\n      <td>90616</td>\n      <td>1</td>\n      <td>7</td>\n      <td>8</td>\n    </tr>\n    <tr>\n      <th>37420</th>\n      <td>252057</td>\n      <td>19198</td>\n      <td>1234</td>\n      <td>1471</td>\n      <td>9</td>\n      <td>8</td>\n      <td>0</td>\n    </tr>\n    <tr>\n      <th>37421</th>\n      <td>2252090</td>\n      <td>34063</td>\n      <td>868</td>\n      <td>2004</td>\n      <td>9</td>\n      <td>7</td>\n      <td>1</td>\n    </tr>\n  </tbody>\n</table>\n<p>37264 rows × 7 columns</p>\n</div>"
     },
     "execution_count": 37,
     "metadata": {},
     "output_type": "execute_result"
    }
   ],
   "source": [
    "# df_video_dislikes = df_video_dislikes[['title','view_count','likes_count','dislikes_count','comment_count','tags','description','comments']]\n",
    "df_video_dislikes = df_video_dislikes[['view_count','likes_count','dislikes_count','comment_count','topic1','topic2','topic3']]\n",
    "# df_video_dislikes['likes_dislikes_ratio'] = df_video_dislikes['likes_count']/df_video_dislikes['dislikes_count']\n",
    "df_video_dislikes"
   ],
   "metadata": {
    "collapsed": false,
    "ExecuteTime": {
     "end_time": "2023-06-13T14:43:26.110524Z",
     "start_time": "2023-06-13T14:43:26.075384500Z"
    }
   }
  },
  {
   "cell_type": "code",
   "execution_count": 38,
   "outputs": [],
   "source": [
    "from sklearn.preprocessing import StandardScaler\n",
    "\n",
    "X = df_video_dislikes[['view_count','likes_count','comment_count','topic1','topic2','topic3']]\n",
    "y =df_video_dislikes['dislikes_count']\n",
    "\n",
    "train_X, test_X, train_y, test_y = train_test_split(X, y, random_state=0)\n",
    "\n",
    "scaler = StandardScaler().fit(train_X)\n",
    "X_train = scaler.transform(train_X)\n",
    "X_test = scaler.transform(test_X)"
   ],
   "metadata": {
    "collapsed": false,
    "ExecuteTime": {
     "end_time": "2023-06-13T14:43:46.658674900Z",
     "start_time": "2023-06-13T14:43:46.645839200Z"
    }
   }
  },
  {
   "cell_type": "code",
   "execution_count": 39,
   "outputs": [
    {
     "name": "stdout",
     "output_type": "stream",
     "text": [
      "Mean R2 Score: 0.4497216670205615\n",
      "Standard Deviation of R2 Score: 0.05569635951884215\n",
      "Best Parameters: {'max_depth': 5, 'min_samples_leaf': 5, 'min_samples_split': 2}\n"
     ]
    }
   ],
   "source": [
    "from sklearn.model_selection import GridSearchCV, cross_val_score\n",
    "from sklearn.tree import DecisionTreeRegressor\n",
    "import numpy as np\n",
    "\n",
    "# Create the DecisionTreeRegressor object\n",
    "decision_tree = DecisionTreeRegressor()\n",
    "\n",
    "# Define the parameter grid for grid search\n",
    "param_grid = {\n",
    "    'max_depth': [None, 3, 5, 7],\n",
    "    'min_samples_split': [2, 5, 10],\n",
    "    'min_samples_leaf': [1, 3, 5]\n",
    "}\n",
    "\n",
    "# Create the GridSearchCV object\n",
    "grid_search = GridSearchCV(estimator=decision_tree, param_grid=param_grid, scoring='r2', cv=5)\n",
    "\n",
    "# Fit the GridSearchCV object to the data\n",
    "grid_search.fit(train_X, train_y)\n",
    "\n",
    "# Get the mean and standard deviation of the R2 scores\n",
    "r2_scores = grid_search.cv_results_['mean_test_score']\n",
    "r2_mean = np.mean(r2_scores)\n",
    "r2_std = np.std(r2_scores)\n",
    "\n",
    "# Get the best parameters\n",
    "best_params = grid_search.best_params_\n",
    "\n",
    "print(\"Mean R2 Score:\", r2_mean)\n",
    "print(\"Standard Deviation of R2 Score:\", r2_std)\n",
    "print(\"Best Parameters:\", best_params)\n"
   ],
   "metadata": {
    "collapsed": false,
    "ExecuteTime": {
     "end_time": "2023-06-13T14:44:00.442294Z",
     "start_time": "2023-06-13T14:43:48.980079100Z"
    }
   }
  },
  {
   "cell_type": "markdown",
   "source": [
    "In the context of an R2 score of 0.71, it means that approximately 71% of the variance in the dependent variable can be explained by the independent variables included in the regression model. This indicates a relatively good fit, as a higher proportion of the variance is accounted for by the model."
   ],
   "metadata": {
    "collapsed": false
   }
  },
  {
   "cell_type": "code",
   "execution_count": 40,
   "outputs": [
    {
     "name": "stdout",
     "output_type": "stream",
     "text": [
      "topic2: -0.0008290474846264217\n",
      "topic3: 0.0026897271395146193\n",
      "topic1: 0.003856199578394659\n",
      "view_count: 0.2684777358950366\n",
      "likes_count: 0.31818527502591587\n",
      "comment_count: 0.374615197950508\n"
     ]
    }
   ],
   "source": [
    "from sklearn.inspection import permutation_importance\n",
    "\n",
    "# Train the DecisionTreeRegressor model\n",
    "dtree = DecisionTreeRegressor(min_samples_leaf=3,min_samples_split=2)\n",
    "dtree.fit(train_X, train_y)\n",
    "\n",
    "# Calculate permutation importances\n",
    "result = permutation_importance(dtree, test_X, test_y, n_repeats=10)\n",
    "\n",
    "# Get the feature importances and their indices\n",
    "importances = result.importances_mean\n",
    "indices = np.argsort(importances)\n",
    "\n",
    "# Print the feature importances\n",
    "for f in range(train_X.shape[1]):\n",
    "    print(f\"{train_X.columns[indices[f]]}: {importances[indices[f]]}\")"
   ],
   "metadata": {
    "collapsed": false,
    "ExecuteTime": {
     "end_time": "2023-06-13T14:44:08.476377200Z",
     "start_time": "2023-06-13T14:44:08.140189700Z"
    }
   }
  },
  {
   "cell_type": "code",
   "execution_count": 9,
   "outputs": [
    {
     "name": "stdout",
     "output_type": "stream",
     "text": [
      "[-287.82736252  -99.02661154 -655.97440589 -294.3655928  -175.03002425]\n",
      "Min samples Leaf: 1, Mean MSE: 302.44480, Standard Deviation: 191.24623\n",
      "[-310.21373207 -125.70050192 -581.63108479 -256.32130747 -155.57423824]\n",
      "Min samples Leaf: 3, Mean MSE: 285.88817, Standard Deviation: 162.21690\n",
      "[-386.80169713 -197.82820366 -605.4241006  -188.14261475 -187.29798551]\n",
      "Min samples Leaf: 5, Mean MSE: 313.09892, Standard Deviation: 164.68965\n",
      "[-325.84613944 -169.52517646 -654.33004733 -255.48526609 -217.81633164]\n",
      "Min samples Leaf: 7, Mean MSE: 324.60059, Standard Deviation: 172.59853\n"
     ]
    }
   ],
   "source": [
    "from sklearn.model_selection import cross_val_score\n",
    "\n",
    "# Define the range of values for the number of min samples leaf\n",
    "min_samp_leaf = [1, 3, 5,7]\n",
    "\n",
    "# Perform sensitivity analysis by iterating over different values of neighbors\n",
    "for k in min_samp_leaf:\n",
    "    model = DecisionTreeRegressor(min_samples_leaf=k,min_samples_split=2)\n",
    "\n",
    "    # Evaluate the model using cross-validation and the desired metric (e.g., mean squared error)\n",
    "    scores = cross_val_score(model, train_X, train_y, cv=5, scoring='neg_mean_squared_error')\n",
    "\n",
    "    # Calculate the mean and standard deviation of the scores\n",
    "    print(scores)\n",
    "    mean_score = -scores.mean()  # Since scoring='neg_mean_squared_error', we take the negative of the mean score\n",
    "    std_score = scores.std()\n",
    "\n",
    "    # Print the results\n",
    "    print(f\"Min samples Leaf: {k}, Mean MSE: {mean_score:.5f}, Standard Deviation: {std_score:.5f}\")"
   ],
   "metadata": {
    "collapsed": false,
    "ExecuteTime": {
     "end_time": "2023-06-05T21:29:23.280518400Z",
     "start_time": "2023-06-05T21:29:20.992493200Z"
    }
   }
  },
  {
   "cell_type": "code",
   "execution_count": 23,
   "outputs": [],
   "source": [
    "predicted_dtree = dtree.predict(test_X)"
   ],
   "metadata": {
    "collapsed": false,
    "ExecuteTime": {
     "end_time": "2023-06-10T22:38:18.531619900Z",
     "start_time": "2023-06-10T22:38:18.527017800Z"
    }
   }
  },
  {
   "cell_type": "code",
   "execution_count": 25,
   "outputs": [
    {
     "name": "stdout",
     "output_type": "stream",
     "text": [
      "dtree_r2= 0.7060909010339231\n",
      "dummy mean_r2= -9.76538597829979e-06\n",
      "dummy median_r2= -0.06943460924051359\n"
     ]
    }
   ],
   "source": [
    "from sklearn.dummy import DummyRegressor\n",
    "\n",
    "dummy_reg_mean = DummyRegressor(strategy=\"mean\")\n",
    "dummy_reg_median = DummyRegressor(strategy=\"median\")\n",
    "\n",
    "dummy_reg_mean.fit(train_X,train_y)\n",
    "dummy_reg_median.fit(train_X,train_y)\n",
    "\n",
    "mean_predicted= dummy_reg_mean.predict(test_X)\n",
    "median_predicted=dummy_reg_median.predict(test_X)\n",
    "\n",
    "# dtree_r2 = r2_score(test_y, predicted_dtree)\n",
    "mean_r2 = r2_score(test_y, mean_predicted)\n",
    "median_r2 = r2_score(test_y, median_predicted)\n",
    "\n",
    "print(\"dtree_r2=\", r2_mean)\n",
    "print(\"dummy mean_r2=\", mean_r2)\n",
    "print(\"dummy median_r2=\", median_r2)"
   ],
   "metadata": {
    "collapsed": false,
    "ExecuteTime": {
     "end_time": "2023-06-10T22:40:05.999408800Z",
     "start_time": "2023-06-10T22:40:05.994970900Z"
    }
   }
  },
  {
   "cell_type": "markdown",
   "source": [
    "The decisionTreeRegressor does better than the dummy regressors"
   ],
   "metadata": {
    "collapsed": false
   }
  },
  {
   "cell_type": "code",
   "execution_count": 11,
   "outputs": [
    {
     "data": {
      "text/plain": "117.806268909707"
     },
     "execution_count": 11,
     "metadata": {},
     "output_type": "execute_result"
    }
   ],
   "source": [
    "# MSE is used to evaluate the performance of estimators. A lower MSE indicates that the estimator is more accurate. MSE can also be used to compare the performance of different estimators.\n",
    "mse = mean_squared_error(test_y, predicted_dtree)\n",
    "mse"
   ],
   "metadata": {
    "collapsed": false,
    "ExecuteTime": {
     "end_time": "2023-06-05T21:29:42.059931500Z",
     "start_time": "2023-06-05T21:29:42.055831400Z"
    }
   }
  },
  {
   "cell_type": "code",
   "execution_count": 12,
   "outputs": [
    {
     "data": {
      "text/plain": "0.9790373552854099"
     },
     "execution_count": 12,
     "metadata": {},
     "output_type": "execute_result"
    }
   ],
   "source": [
    "#In statistics, the coefficient of determination, or R-squared, is a measure of how well a model fits a set of data. It is calculated as the ratio of the variance explained by the model to the total variance in the data.\n",
    "r_squared = r2_score(test_y, predicted_dtree)\n",
    "r_squared\n",
    "\n",
    "# This means that the linear regression model explains 67.24% of the variance in the data."
   ],
   "metadata": {
    "collapsed": false,
    "ExecuteTime": {
     "end_time": "2023-06-05T21:30:01.483245600Z",
     "start_time": "2023-06-05T21:30:01.478228Z"
    }
   }
  },
  {
   "cell_type": "code",
   "execution_count": 13,
   "outputs": [
    {
     "data": {
      "text/plain": "2.8677648964798257"
     },
     "execution_count": 13,
     "metadata": {},
     "output_type": "execute_result"
    }
   ],
   "source": [
    "from sklearn.metrics import mean_absolute_error\n",
    "\n",
    "#If the MAE is 0, this means that the predicted values are perfectly accurate.\n",
    "# Calculate the accuracy score\n",
    "mae = mean_absolute_error(test_y, predicted_dtree)\n",
    "mae"
   ],
   "metadata": {
    "collapsed": false,
    "ExecuteTime": {
     "end_time": "2023-06-05T21:30:02.771416700Z",
     "start_time": "2023-06-05T21:30:02.765909900Z"
    }
   }
  },
  {
   "cell_type": "code",
   "execution_count": 17,
   "outputs": [
    {
     "data": {
      "text/plain": "       likes_dislikes_ratio   Predicted     Error\n36171             15.440281   15.608035 -0.167754\n34553             44.593028   43.442532  1.150495\n21934             24.774297   24.711366  0.062931\n14719             19.935759   19.237536  0.698223\n20114            193.395564  194.085684 -0.690121\n...                     ...         ...       ...\n2853              32.296875   31.790551  0.506324\n5261              22.917402   22.515803  0.401599\n10130             30.067073   30.655100 -0.588027\n8195             239.596914  248.200980 -8.604066\n11051             25.868214   23.770772  2.097443\n\n[9316 rows x 3 columns]",
      "text/html": "<div>\n<style scoped>\n    .dataframe tbody tr th:only-of-type {\n        vertical-align: middle;\n    }\n\n    .dataframe tbody tr th {\n        vertical-align: top;\n    }\n\n    .dataframe thead th {\n        text-align: right;\n    }\n</style>\n<table border=\"1\" class=\"dataframe\">\n  <thead>\n    <tr style=\"text-align: right;\">\n      <th></th>\n      <th>likes_dislikes_ratio</th>\n      <th>Predicted</th>\n      <th>Error</th>\n    </tr>\n  </thead>\n  <tbody>\n    <tr>\n      <th>36171</th>\n      <td>15.440281</td>\n      <td>15.608035</td>\n      <td>-0.167754</td>\n    </tr>\n    <tr>\n      <th>34553</th>\n      <td>44.593028</td>\n      <td>43.442532</td>\n      <td>1.150495</td>\n    </tr>\n    <tr>\n      <th>21934</th>\n      <td>24.774297</td>\n      <td>24.711366</td>\n      <td>0.062931</td>\n    </tr>\n    <tr>\n      <th>14719</th>\n      <td>19.935759</td>\n      <td>19.237536</td>\n      <td>0.698223</td>\n    </tr>\n    <tr>\n      <th>20114</th>\n      <td>193.395564</td>\n      <td>194.085684</td>\n      <td>-0.690121</td>\n    </tr>\n    <tr>\n      <th>...</th>\n      <td>...</td>\n      <td>...</td>\n      <td>...</td>\n    </tr>\n    <tr>\n      <th>2853</th>\n      <td>32.296875</td>\n      <td>31.790551</td>\n      <td>0.506324</td>\n    </tr>\n    <tr>\n      <th>5261</th>\n      <td>22.917402</td>\n      <td>22.515803</td>\n      <td>0.401599</td>\n    </tr>\n    <tr>\n      <th>10130</th>\n      <td>30.067073</td>\n      <td>30.655100</td>\n      <td>-0.588027</td>\n    </tr>\n    <tr>\n      <th>8195</th>\n      <td>239.596914</td>\n      <td>248.200980</td>\n      <td>-8.604066</td>\n    </tr>\n    <tr>\n      <th>11051</th>\n      <td>25.868214</td>\n      <td>23.770772</td>\n      <td>2.097443</td>\n    </tr>\n  </tbody>\n</table>\n<p>9316 rows × 3 columns</p>\n</div>"
     },
     "execution_count": 17,
     "metadata": {},
     "output_type": "execute_result"
    }
   ],
   "source": [
    "df = pd.DataFrame()\n",
    "df['likes_dislikes_ratio']= test_y\n",
    "df['Predicted']=predicted_dtree\n",
    "df['Error']=df['likes_dislikes_ratio']-df['Predicted']\n",
    "df"
   ],
   "metadata": {
    "collapsed": false,
    "ExecuteTime": {
     "end_time": "2023-06-06T19:16:48.157056200Z",
     "start_time": "2023-06-06T19:16:48.146659900Z"
    }
   }
  },
  {
   "cell_type": "code",
   "execution_count": 18,
   "outputs": [
    {
     "data": {
      "text/plain": "       likes_dislikes_ratio    Predicted       Error\n28120           1252.727778   908.138391  344.589387\n2518            1770.838710  1463.236498  307.602211\n13015            787.225806   565.400645  221.825161\n10995            984.856305   773.011696  211.844609\n31955            681.018382   472.085299  208.933084\n...                     ...          ...         ...\n8706             628.070093   777.982848 -149.912755\n27154            555.270348   730.035870 -174.765522\n34151            284.790359   461.230345 -176.439987\n7728             427.962963   612.399329 -184.436366\n5652             494.340000   685.061361 -190.721361\n\n[9316 rows x 3 columns]",
      "text/html": "<div>\n<style scoped>\n    .dataframe tbody tr th:only-of-type {\n        vertical-align: middle;\n    }\n\n    .dataframe tbody tr th {\n        vertical-align: top;\n    }\n\n    .dataframe thead th {\n        text-align: right;\n    }\n</style>\n<table border=\"1\" class=\"dataframe\">\n  <thead>\n    <tr style=\"text-align: right;\">\n      <th></th>\n      <th>likes_dislikes_ratio</th>\n      <th>Predicted</th>\n      <th>Error</th>\n    </tr>\n  </thead>\n  <tbody>\n    <tr>\n      <th>28120</th>\n      <td>1252.727778</td>\n      <td>908.138391</td>\n      <td>344.589387</td>\n    </tr>\n    <tr>\n      <th>2518</th>\n      <td>1770.838710</td>\n      <td>1463.236498</td>\n      <td>307.602211</td>\n    </tr>\n    <tr>\n      <th>13015</th>\n      <td>787.225806</td>\n      <td>565.400645</td>\n      <td>221.825161</td>\n    </tr>\n    <tr>\n      <th>10995</th>\n      <td>984.856305</td>\n      <td>773.011696</td>\n      <td>211.844609</td>\n    </tr>\n    <tr>\n      <th>31955</th>\n      <td>681.018382</td>\n      <td>472.085299</td>\n      <td>208.933084</td>\n    </tr>\n    <tr>\n      <th>...</th>\n      <td>...</td>\n      <td>...</td>\n      <td>...</td>\n    </tr>\n    <tr>\n      <th>8706</th>\n      <td>628.070093</td>\n      <td>777.982848</td>\n      <td>-149.912755</td>\n    </tr>\n    <tr>\n      <th>27154</th>\n      <td>555.270348</td>\n      <td>730.035870</td>\n      <td>-174.765522</td>\n    </tr>\n    <tr>\n      <th>34151</th>\n      <td>284.790359</td>\n      <td>461.230345</td>\n      <td>-176.439987</td>\n    </tr>\n    <tr>\n      <th>7728</th>\n      <td>427.962963</td>\n      <td>612.399329</td>\n      <td>-184.436366</td>\n    </tr>\n    <tr>\n      <th>5652</th>\n      <td>494.340000</td>\n      <td>685.061361</td>\n      <td>-190.721361</td>\n    </tr>\n  </tbody>\n</table>\n<p>9316 rows × 3 columns</p>\n</div>"
     },
     "execution_count": 18,
     "metadata": {},
     "output_type": "execute_result"
    }
   ],
   "source": [
    "df.sort_values(by='Error', ascending=False)"
   ],
   "metadata": {
    "collapsed": false,
    "ExecuteTime": {
     "end_time": "2023-06-06T19:16:54.510827Z",
     "start_time": "2023-06-06T19:16:54.502171400Z"
    }
   }
  },
  {
   "cell_type": "code",
   "execution_count": 19,
   "outputs": [
    {
     "data": {
      "text/plain": "       view_count  likes_count  dislikes_count  comment_count  topic1  topic2   \n28120      726929       225491             180          17187       3       4  \\\n\n       topic3  \n28120       5  ",
      "text/html": "<div>\n<style scoped>\n    .dataframe tbody tr th:only-of-type {\n        vertical-align: middle;\n    }\n\n    .dataframe tbody tr th {\n        vertical-align: top;\n    }\n\n    .dataframe thead th {\n        text-align: right;\n    }\n</style>\n<table border=\"1\" class=\"dataframe\">\n  <thead>\n    <tr style=\"text-align: right;\">\n      <th></th>\n      <th>view_count</th>\n      <th>likes_count</th>\n      <th>dislikes_count</th>\n      <th>comment_count</th>\n      <th>topic1</th>\n      <th>topic2</th>\n      <th>topic3</th>\n    </tr>\n  </thead>\n  <tbody>\n    <tr>\n      <th>28120</th>\n      <td>726929</td>\n      <td>225491</td>\n      <td>180</td>\n      <td>17187</td>\n      <td>3</td>\n      <td>4</td>\n      <td>5</td>\n    </tr>\n  </tbody>\n</table>\n</div>"
     },
     "execution_count": 19,
     "metadata": {},
     "output_type": "execute_result"
    }
   ],
   "source": [
    "test_X.loc[[28120]]"
   ],
   "metadata": {
    "collapsed": false,
    "ExecuteTime": {
     "end_time": "2023-06-06T19:19:59.561814500Z",
     "start_time": "2023-06-06T19:19:59.550094900Z"
    }
   }
  },
  {
   "cell_type": "code",
   "execution_count": 21,
   "outputs": [
    {
     "data": {
      "text/plain": "       likes_count  dislikes_count\ncount      9316.00         9316.00\nmean     166349.75         5229.71\nstd      489320.25        35394.43\nmin          97.00            4.00\n25%       13361.50          284.00\n50%       42380.50          813.00\n75%      131037.75         2405.75\nmax    13641573.00      2397733.00",
      "text/html": "<div>\n<style scoped>\n    .dataframe tbody tr th:only-of-type {\n        vertical-align: middle;\n    }\n\n    .dataframe tbody tr th {\n        vertical-align: top;\n    }\n\n    .dataframe thead th {\n        text-align: right;\n    }\n</style>\n<table border=\"1\" class=\"dataframe\">\n  <thead>\n    <tr style=\"text-align: right;\">\n      <th></th>\n      <th>likes_count</th>\n      <th>dislikes_count</th>\n    </tr>\n  </thead>\n  <tbody>\n    <tr>\n      <th>count</th>\n      <td>9316.00</td>\n      <td>9316.00</td>\n    </tr>\n    <tr>\n      <th>mean</th>\n      <td>166349.75</td>\n      <td>5229.71</td>\n    </tr>\n    <tr>\n      <th>std</th>\n      <td>489320.25</td>\n      <td>35394.43</td>\n    </tr>\n    <tr>\n      <th>min</th>\n      <td>97.00</td>\n      <td>4.00</td>\n    </tr>\n    <tr>\n      <th>25%</th>\n      <td>13361.50</td>\n      <td>284.00</td>\n    </tr>\n    <tr>\n      <th>50%</th>\n      <td>42380.50</td>\n      <td>813.00</td>\n    </tr>\n    <tr>\n      <th>75%</th>\n      <td>131037.75</td>\n      <td>2405.75</td>\n    </tr>\n    <tr>\n      <th>max</th>\n      <td>13641573.00</td>\n      <td>2397733.00</td>\n    </tr>\n  </tbody>\n</table>\n</div>"
     },
     "execution_count": 21,
     "metadata": {},
     "output_type": "execute_result"
    }
   ],
   "source": [
    "pd.options.display.float_format = '{:.2f}'.format\n",
    "test_X.describe()[['likes_count', 'dislikes_count']]"
   ],
   "metadata": {
    "collapsed": false,
    "ExecuteTime": {
     "end_time": "2023-06-06T19:24:54.483505500Z",
     "start_time": "2023-06-06T19:24:54.471705Z"
    }
   }
  },
  {
   "cell_type": "code",
   "execution_count": null,
   "outputs": [],
   "source": [],
   "metadata": {
    "collapsed": false
   }
  }
 ],
 "metadata": {
  "kernelspec": {
   "display_name": "Python 3",
   "language": "python",
   "name": "python3"
  },
  "language_info": {
   "codemirror_mode": {
    "name": "ipython",
    "version": 2
   },
   "file_extension": ".py",
   "mimetype": "text/x-python",
   "name": "python",
   "nbconvert_exporter": "python",
   "pygments_lexer": "ipython2",
   "version": "2.7.6"
  }
 },
 "nbformat": 4,
 "nbformat_minor": 0
}
