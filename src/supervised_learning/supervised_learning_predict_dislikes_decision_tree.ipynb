{
 "cells": [
  {
   "cell_type": "markdown",
   "source": [
    "Author: Shailendra Chalasani\n",
    "Intention: Supervised Learning Likes to dislikes ratio - Decision Trees"
   ],
   "metadata": {
    "collapsed": false
   }
  },
  {
   "cell_type": "code",
   "execution_count": 1,
   "outputs": [],
   "source": [
    "import gzip\n",
    "import json\n",
    "import matplotlib.pyplot as plt\n",
    "import numpy as np\n",
    "import re\n",
    "import seaborn as sns\n",
    "import pandas as pd\n",
    "from collections import Counter, defaultdict\n",
    "from sklearn.neighbors import KNeighborsRegressor\n",
    "from sklearn.dummy import DummyRegressor\n",
    "from sklearn.feature_extraction.text import TfidfVectorizer\n",
    "from sklearn.linear_model import LinearRegression\n",
    "from sklearn.metrics import mean_squared_error, r2_score\n",
    "from sklearn.model_selection import train_test_split\n",
    "from tqdm import tqdm\n",
    "\n",
    "from sklearn.pipeline import Pipeline\n",
    "from sklearn.compose import ColumnTransformer\n",
    "from sklearn.ensemble import RandomForestClassifier\n",
    "from sklearn.feature_extraction.text import TfidfVectorizer"
   ],
   "metadata": {
    "collapsed": false,
    "ExecuteTime": {
     "end_time": "2023-06-05T21:32:42.106763600Z",
     "start_time": "2023-06-05T21:32:41.819512700Z"
    }
   }
  },
  {
   "cell_type": "code",
   "execution_count": 2,
   "outputs": [
    {
     "name": "stdout",
     "output_type": "stream",
     "text": [
      "37422\n",
      "37264\n"
     ]
    }
   ],
   "source": [
    "df_video_dislikes = pd.read_csv(f\"../../data/cleaned_datasets/df_video_dislikes.csv\")\n",
    "print(len(df_video_dislikes))\n",
    "df_video_dislikes.dropna(inplace=True)\n",
    "print(len(df_video_dislikes))"
   ],
   "metadata": {
    "collapsed": false,
    "ExecuteTime": {
     "end_time": "2023-06-05T21:32:43.253417900Z",
     "start_time": "2023-06-05T21:32:42.109283400Z"
    }
   }
  },
  {
   "cell_type": "code",
   "execution_count": 3,
   "outputs": [
    {
     "data": {
      "text/plain": "Index(['Unnamed: 0.1', 'Unnamed: 0', 'video_id', 'title', 'published_at',\n       'view_count', 'likes_count', 'dislikes_count', 'comment_count', 'tags',\n       'description', 'comments', 'topic1', 'topic2', 'topic3'],\n      dtype='object')"
     },
     "execution_count": 3,
     "metadata": {},
     "output_type": "execute_result"
    }
   ],
   "source": [
    "df_video_dislikes.columns"
   ],
   "metadata": {
    "collapsed": false,
    "ExecuteTime": {
     "end_time": "2023-06-05T21:32:43.258987500Z",
     "start_time": "2023-06-05T21:32:43.254418300Z"
    }
   }
  },
  {
   "cell_type": "code",
   "execution_count": 4,
   "outputs": [
    {
     "data": {
      "text/plain": "       view_count  likes_count  dislikes_count  comment_count\n0         1048888        19515             226           1319\n1        15352638       359277            7479          18729\n2          925281        11212             401            831\n3         2641597        39131             441           3745\n4          715724        32887             367           1067\n...           ...          ...             ...            ...\n37417   120408275      2180780           35871          81360\n37418     2841917        20759            1049           2624\n37419    13346678       720854            4426          90616\n37420      252057        19198            1234           1471\n37421     2252090        34063             868           2004\n\n[37264 rows x 4 columns]",
      "text/html": "<div>\n<style scoped>\n    .dataframe tbody tr th:only-of-type {\n        vertical-align: middle;\n    }\n\n    .dataframe tbody tr th {\n        vertical-align: top;\n    }\n\n    .dataframe thead th {\n        text-align: right;\n    }\n</style>\n<table border=\"1\" class=\"dataframe\">\n  <thead>\n    <tr style=\"text-align: right;\">\n      <th></th>\n      <th>view_count</th>\n      <th>likes_count</th>\n      <th>dislikes_count</th>\n      <th>comment_count</th>\n    </tr>\n  </thead>\n  <tbody>\n    <tr>\n      <th>0</th>\n      <td>1048888</td>\n      <td>19515</td>\n      <td>226</td>\n      <td>1319</td>\n    </tr>\n    <tr>\n      <th>1</th>\n      <td>15352638</td>\n      <td>359277</td>\n      <td>7479</td>\n      <td>18729</td>\n    </tr>\n    <tr>\n      <th>2</th>\n      <td>925281</td>\n      <td>11212</td>\n      <td>401</td>\n      <td>831</td>\n    </tr>\n    <tr>\n      <th>3</th>\n      <td>2641597</td>\n      <td>39131</td>\n      <td>441</td>\n      <td>3745</td>\n    </tr>\n    <tr>\n      <th>4</th>\n      <td>715724</td>\n      <td>32887</td>\n      <td>367</td>\n      <td>1067</td>\n    </tr>\n    <tr>\n      <th>...</th>\n      <td>...</td>\n      <td>...</td>\n      <td>...</td>\n      <td>...</td>\n    </tr>\n    <tr>\n      <th>37417</th>\n      <td>120408275</td>\n      <td>2180780</td>\n      <td>35871</td>\n      <td>81360</td>\n    </tr>\n    <tr>\n      <th>37418</th>\n      <td>2841917</td>\n      <td>20759</td>\n      <td>1049</td>\n      <td>2624</td>\n    </tr>\n    <tr>\n      <th>37419</th>\n      <td>13346678</td>\n      <td>720854</td>\n      <td>4426</td>\n      <td>90616</td>\n    </tr>\n    <tr>\n      <th>37420</th>\n      <td>252057</td>\n      <td>19198</td>\n      <td>1234</td>\n      <td>1471</td>\n    </tr>\n    <tr>\n      <th>37421</th>\n      <td>2252090</td>\n      <td>34063</td>\n      <td>868</td>\n      <td>2004</td>\n    </tr>\n  </tbody>\n</table>\n<p>37264 rows × 4 columns</p>\n</div>"
     },
     "execution_count": 4,
     "metadata": {},
     "output_type": "execute_result"
    }
   ],
   "source": [
    "# df_video_dislikes = df_video_dislikes[['title','view_count','likes_count','dislikes_count','comment_count','tags','description','comments']]\n",
    "df_video_dislikes = df_video_dislikes[['view_count','likes_count','dislikes_count','comment_count','topic1','topic2','topic3']]\n",
    "# df_video_dislikes['likes_dislikes_ratio'] = df_video_dislikes['likes_count']/df_video_dislikes['dislikes_count']\n",
    "df_video_dislikes"
   ],
   "metadata": {
    "collapsed": false,
    "ExecuteTime": {
     "end_time": "2023-05-25T18:55:08.579338600Z",
     "start_time": "2023-05-25T18:55:08.518487200Z"
    }
   }
  },
  {
   "cell_type": "code",
   "execution_count": 5,
   "outputs": [],
   "source": [
    "df_stats = pd.read_csv('../data/cleaned_datasets/df_video_stats.csv')\n",
    "df_stats.dropna(inplace=True)\n",
    "test_X = df_stats[['view_count','likes_count','comment_count']]"
   ],
   "metadata": {
    "collapsed": false,
    "ExecuteTime": {
     "end_time": "2023-05-25T18:55:08.635381700Z",
     "start_time": "2023-05-25T18:55:08.552314900Z"
    }
   }
  },
  {
   "cell_type": "code",
   "execution_count": 6,
   "outputs": [],
   "source": [
    "from sklearn.preprocessing import StandardScaler\n",
    "\n",
    "X = df_video_dislikes[['view_count','likes_count','comment_count']]\n",
    "y =df_video_dislikes['dislikes_count']\n",
    "\n",
    "# train_X, test_X, train_y, test_y = train_test_split(X, y, random_state=0)\n",
    "\n",
    "scaler = StandardScaler().fit(X)\n",
    "X_train = scaler.transform(X)\n",
    "X_test = scaler.transform(test_X)"
   ],
   "metadata": {
    "collapsed": false,
    "ExecuteTime": {
     "end_time": "2023-05-25T18:55:08.661404500Z",
     "start_time": "2023-05-25T18:55:08.607668300Z"
    }
   }
  },
  {
   "cell_type": "code",
   "execution_count": 10,
   "outputs": [
    {
     "name": "stdout",
     "output_type": "stream",
     "text": [
      "Mean R2 Score: 0.37968459748265304\n",
      "Standard Deviation of R2 Score: 0.13875787471295195\n",
      "Best Parameters: {'max_depth': 7, 'min_samples_leaf': 5, 'min_samples_split': 5}\n"
     ]
    }
   ],
   "source": [
    "from sklearn.model_selection import GridSearchCV, cross_val_score\n",
    "from sklearn.tree import DecisionTreeRegressor\n",
    "import numpy as np\n",
    "\n",
    "# Create the DecisionTreeRegressor object\n",
    "decision_tree = DecisionTreeRegressor()\n",
    "\n",
    "# Define the parameter grid for grid search\n",
    "param_grid = {\n",
    "    'max_depth': [None, 3, 5, 7],\n",
    "    'min_samples_split': [2, 5, 10],\n",
    "    'min_samples_leaf': [1, 3, 5]\n",
    "}\n",
    "\n",
    "# Create the GridSearchCV object\n",
    "grid_search = GridSearchCV(estimator=decision_tree, param_grid=param_grid, scoring='r2', cv=5)\n",
    "\n",
    "# Fit the GridSearchCV object to the data\n",
    "grid_search.fit(X_train, y)\n",
    "\n",
    "# Get the mean and standard deviation of the R2 scores\n",
    "r2_scores = grid_search.cv_results_['mean_test_score']\n",
    "r2_mean = np.mean(r2_scores)\n",
    "r2_std = np.std(r2_scores)\n",
    "\n",
    "# Get the best parameters\n",
    "best_params = grid_search.best_params_\n",
    "\n",
    "print(\"Mean R2 Score:\", r2_mean)\n",
    "print(\"Standard Deviation of R2 Score:\", r2_std)\n",
    "print(\"Best Parameters:\", best_params)\n"
   ],
   "metadata": {
    "collapsed": false,
    "ExecuteTime": {
     "end_time": "2023-05-25T19:30:11.770332600Z",
     "start_time": "2023-05-25T19:29:58.671751200Z"
    }
   }
  },
  {
   "cell_type": "code",
   "execution_count": 11,
   "outputs": [
    {
     "name": "stdout",
     "output_type": "stream",
     "text": [
      "Mean R2 Score: 0.5546539404859884\n",
      "Standard Deviation of R2 Score: 0.013687287083409765\n",
      "Best Parameters: {'metric': 'manhattan', 'n_neighbors': 5, 'weights': 'uniform'}\n"
     ]
    }
   ],
   "source": [
    "from sklearn.model_selection import GridSearchCV, cross_val_score\n",
    "from sklearn.neighbors import KNeighborsRegressor\n",
    "import numpy as np\n",
    "\n",
    "# Create the KNeighborsRegressor object\n",
    "knn = KNeighborsRegressor()\n",
    "\n",
    "# Define the parameter grid for grid search\n",
    "param_grid = {\n",
    "    'n_neighbors': [3, 5, 7,9,11,13,15,17,19,21,23,25],\n",
    "    'weights': ['uniform', 'distance'],\n",
    "    'metric': ['euclidean', 'manhattan']\n",
    "}\n",
    "\n",
    "# Create the GridSearchCV object\n",
    "grid_search = GridSearchCV(estimator=knn, param_grid=param_grid, scoring='r2', cv=5)\n",
    "\n",
    "# Fit the GridSearchCV object to the data\n",
    "grid_search.fit(X_train, y)\n",
    "\n",
    "# Get the mean and standard deviation of the R2 scores\n",
    "r2_scores = grid_search.cv_results_['mean_test_score']\n",
    "r2_mean = np.mean(r2_scores)\n",
    "r2_std = np.std(r2_scores)\n",
    "\n",
    "# Get the best parameters\n",
    "best_params = grid_search.best_params_\n",
    "\n",
    "print(\"Mean R2 Score:\", r2_mean)\n",
    "print(\"Standard Deviation of R2 Score:\", r2_std)\n",
    "print(\"Best Parameters:\", best_params)\n"
   ],
   "metadata": {
    "collapsed": false,
    "ExecuteTime": {
     "end_time": "2023-05-25T19:30:39.751802200Z",
     "start_time": "2023-05-25T19:30:25.096485600Z"
    }
   }
  },
  {
   "cell_type": "code",
   "execution_count": 12,
   "outputs": [
    {
     "name": "stdout",
     "output_type": "stream",
     "text": [
      "Mean R2 Score: 0.4940608547485703\n",
      "Standard Deviation of R2 Score: 0.03778774606630465\n",
      "Best Parameters: {'learning_rate': 0.05, 'max_depth': 3, 'n_estimators': 100}\n"
     ]
    }
   ],
   "source": [
    "# from sklearn.model_selection import GridSearchCV, cross_val_score\n",
    "# from sklearn.ensemble import GradientBoostingRegressor\n",
    "# import numpy as np\n",
    "#\n",
    "# # Create a GradientBoostingRegressor model\n",
    "# gbr = GradientBoostingRegressor()\n",
    "#\n",
    "# # Define the parameter grid for GridSearchCV\n",
    "# param_grid = {\n",
    "#     'n_estimators': [100, 200, 300],\n",
    "#     'learning_rate': [0.1, 0.05, 0.01],\n",
    "#     'max_depth': [3, 5, 7]\n",
    "# }\n",
    "#\n",
    "# # Create the GridSearchCV object\n",
    "# grid_search = GridSearchCV(estimator=gbr, param_grid=param_grid, scoring='r2', cv=5)\n",
    "#\n",
    "# # Fit the GridSearchCV object to the data\n",
    "# grid_search.fit(X_train, y)\n",
    "#\n",
    "# # Get the mean and standard deviation of the R2 scores\n",
    "# r2_scores = grid_search.cv_results_['mean_test_score']\n",
    "# r2_mean = np.mean(r2_scores)\n",
    "# r2_std = np.std(r2_scores)\n",
    "#\n",
    "# # Get the best parameters\n",
    "# best_params = grid_search.best_params_\n",
    "#\n",
    "# print(\"Mean R2 Score:\", r2_mean)\n",
    "# print(\"Standard Deviation of R2 Score:\", r2_std)\n",
    "# print(\"Best Parameters:\", best_params)\n",
    "\n",
    "# Mean R2 Score: 0.4940608547485703\n",
    "# Standard Deviation of R2 Score: 0.03778774606630465\n",
    "# Best Parameters: {'learning_rate': 0.05, 'max_depth': 3, 'n_estimators': 100}"
   ],
   "metadata": {
    "collapsed": false,
    "ExecuteTime": {
     "end_time": "2023-05-25T19:57:28.912147700Z",
     "start_time": "2023-05-25T19:30:57.032219200Z"
    }
   }
  },
  {
   "cell_type": "code",
   "execution_count": null,
   "outputs": [],
   "source": [
    "# knn regressor has the best r2 score"
   ],
   "metadata": {
    "collapsed": false
   }
  },
  {
   "cell_type": "code",
   "execution_count": 16,
   "outputs": [
    {
     "data": {
      "text/plain": "(array([ 160. ,  950.8, 1512.6, ...,  144. ,   79.4,   86.4]),\n array([ 160.,  951., 1513., ...,  144.,   79.,   86.]))"
     },
     "execution_count": 16,
     "metadata": {},
     "output_type": "execute_result"
    }
   ],
   "source": [
    "# Train the KNeighborsRegressor model\n",
    "knn = KNeighborsRegressor(n_neighbors=5, metric='manhattan', weights='uniform')\n",
    "knn.fit(X_train, y)\n",
    "predicted = knn.predict(X_test)\n",
    "predicted,np.round(predicted)"
   ],
   "metadata": {
    "collapsed": false,
    "ExecuteTime": {
     "end_time": "2023-05-25T20:08:01.138860100Z",
     "start_time": "2023-05-25T20:08:01.109145200Z"
    }
   }
  },
  {
   "cell_type": "code",
   "execution_count": 14,
   "outputs": [
    {
     "data": {
      "text/plain": "      Unnamed: 0                                              title   \n0              0  Apple Pay Is Killing the Physical Wallet After...  \\\n1              1                    The most EXPENSIVE thing I own.   \n2              2                 My New House Gaming Setup is SICK!   \n3              3                 My New House Gaming Setup is SICK!   \n4              4  Petrol Vs Liquid Nitrogen | Freezing Experimen...   \n...          ...                                                ...   \n1874        1874  Live Day 1- Introduction To Machine Learning A...   \n1875        1875  Complete Roadmap for Machine Learning | ML Roa...   \n1876        1876                 Should You Learn Machine Learning?   \n1877        1877            Todos podemos aprender Machine learning   \n1878        1878  Andrew Ng: Deep Learning, Education, and Real-...   \n\n         video_id published_at  likes_count  comment_count  view_count   \n0     wAZZ-UWGVHI   2022-08-23       3407.0          672.0    135612.0  \\\n1     b3x28s61q3c   2022-08-24      76779.0         4306.0   1758063.0   \n2     4mgePWWCAmA   2022-08-23      63825.0         3338.0   1564007.0   \n3     4mgePWWCAmA   2022-08-23      63825.0         3338.0   1564007.0   \n4     kXiYSI7H2b0   2022-08-23      71566.0         1426.0    922918.0   \n...           ...          ...          ...            ...         ...   \n1874  4UJelID_ICw   2022-02-01       1861.0          184.0     37959.0   \n1875  T4MLrtOKPjY   2021-05-11       9615.0          648.0    319957.0   \n1876  AO6urf07KjE   2021-06-14      10259.0          416.0    386360.0   \n1877  7ClLKBUvmRk   2017-10-08       2981.0           72.0    431421.0   \n1878  0jspaMLxBig   2020-02-20       5198.0          443.0    226152.0   \n\n                                               comments  \n0     Let's not forget that Apple Pay in 2014 requir...  \n1     Wow, you really went to town on the PSU test r...  \n2     Linus!!! Just turn the key lights  180 and bou...  \n3     Linus!!! Just turn the key lights  180 and bou...  \n4     Unstoppable experiments with liquid nitrogen 🎉...  \n...                                                 ...  \n1874  7:15 AI vs ML vs DL vs DS\\n17:00 Machine Learn...  \n1875  Do you want to learn technology from me? Check...  \n1876  I would also like to point out that actually *...  \n1877  Me resultó tan inspirador conocerte, Haydé! Me...  \n1878  I really enjoyed this conversation with Andrew...  \n\n[1879 rows x 8 columns]",
      "text/html": "<div>\n<style scoped>\n    .dataframe tbody tr th:only-of-type {\n        vertical-align: middle;\n    }\n\n    .dataframe tbody tr th {\n        vertical-align: top;\n    }\n\n    .dataframe thead th {\n        text-align: right;\n    }\n</style>\n<table border=\"1\" class=\"dataframe\">\n  <thead>\n    <tr style=\"text-align: right;\">\n      <th></th>\n      <th>Unnamed: 0</th>\n      <th>title</th>\n      <th>video_id</th>\n      <th>published_at</th>\n      <th>likes_count</th>\n      <th>comment_count</th>\n      <th>view_count</th>\n      <th>comments</th>\n    </tr>\n  </thead>\n  <tbody>\n    <tr>\n      <th>0</th>\n      <td>0</td>\n      <td>Apple Pay Is Killing the Physical Wallet After...</td>\n      <td>wAZZ-UWGVHI</td>\n      <td>2022-08-23</td>\n      <td>3407.0</td>\n      <td>672.0</td>\n      <td>135612.0</td>\n      <td>Let's not forget that Apple Pay in 2014 requir...</td>\n    </tr>\n    <tr>\n      <th>1</th>\n      <td>1</td>\n      <td>The most EXPENSIVE thing I own.</td>\n      <td>b3x28s61q3c</td>\n      <td>2022-08-24</td>\n      <td>76779.0</td>\n      <td>4306.0</td>\n      <td>1758063.0</td>\n      <td>Wow, you really went to town on the PSU test r...</td>\n    </tr>\n    <tr>\n      <th>2</th>\n      <td>2</td>\n      <td>My New House Gaming Setup is SICK!</td>\n      <td>4mgePWWCAmA</td>\n      <td>2022-08-23</td>\n      <td>63825.0</td>\n      <td>3338.0</td>\n      <td>1564007.0</td>\n      <td>Linus!!! Just turn the key lights  180 and bou...</td>\n    </tr>\n    <tr>\n      <th>3</th>\n      <td>3</td>\n      <td>My New House Gaming Setup is SICK!</td>\n      <td>4mgePWWCAmA</td>\n      <td>2022-08-23</td>\n      <td>63825.0</td>\n      <td>3338.0</td>\n      <td>1564007.0</td>\n      <td>Linus!!! Just turn the key lights  180 and bou...</td>\n    </tr>\n    <tr>\n      <th>4</th>\n      <td>4</td>\n      <td>Petrol Vs Liquid Nitrogen | Freezing Experimen...</td>\n      <td>kXiYSI7H2b0</td>\n      <td>2022-08-23</td>\n      <td>71566.0</td>\n      <td>1426.0</td>\n      <td>922918.0</td>\n      <td>Unstoppable experiments with liquid nitrogen 🎉...</td>\n    </tr>\n    <tr>\n      <th>...</th>\n      <td>...</td>\n      <td>...</td>\n      <td>...</td>\n      <td>...</td>\n      <td>...</td>\n      <td>...</td>\n      <td>...</td>\n      <td>...</td>\n    </tr>\n    <tr>\n      <th>1874</th>\n      <td>1874</td>\n      <td>Live Day 1- Introduction To Machine Learning A...</td>\n      <td>4UJelID_ICw</td>\n      <td>2022-02-01</td>\n      <td>1861.0</td>\n      <td>184.0</td>\n      <td>37959.0</td>\n      <td>7:15 AI vs ML vs DL vs DS\\n17:00 Machine Learn...</td>\n    </tr>\n    <tr>\n      <th>1875</th>\n      <td>1875</td>\n      <td>Complete Roadmap for Machine Learning | ML Roa...</td>\n      <td>T4MLrtOKPjY</td>\n      <td>2021-05-11</td>\n      <td>9615.0</td>\n      <td>648.0</td>\n      <td>319957.0</td>\n      <td>Do you want to learn technology from me? Check...</td>\n    </tr>\n    <tr>\n      <th>1876</th>\n      <td>1876</td>\n      <td>Should You Learn Machine Learning?</td>\n      <td>AO6urf07KjE</td>\n      <td>2021-06-14</td>\n      <td>10259.0</td>\n      <td>416.0</td>\n      <td>386360.0</td>\n      <td>I would also like to point out that actually *...</td>\n    </tr>\n    <tr>\n      <th>1877</th>\n      <td>1877</td>\n      <td>Todos podemos aprender Machine learning</td>\n      <td>7ClLKBUvmRk</td>\n      <td>2017-10-08</td>\n      <td>2981.0</td>\n      <td>72.0</td>\n      <td>431421.0</td>\n      <td>Me resultó tan inspirador conocerte, Haydé! Me...</td>\n    </tr>\n    <tr>\n      <th>1878</th>\n      <td>1878</td>\n      <td>Andrew Ng: Deep Learning, Education, and Real-...</td>\n      <td>0jspaMLxBig</td>\n      <td>2020-02-20</td>\n      <td>5198.0</td>\n      <td>443.0</td>\n      <td>226152.0</td>\n      <td>I really enjoyed this conversation with Andrew...</td>\n    </tr>\n  </tbody>\n</table>\n<p>1879 rows × 8 columns</p>\n</div>"
     },
     "execution_count": 14,
     "metadata": {},
     "output_type": "execute_result"
    }
   ],
   "source": [
    "df_stats"
   ],
   "metadata": {
    "collapsed": false,
    "ExecuteTime": {
     "end_time": "2023-05-25T20:05:41.765897600Z",
     "start_time": "2023-05-25T20:05:41.756598600Z"
    }
   }
  },
  {
   "cell_type": "code",
   "execution_count": 19,
   "outputs": [
    {
     "name": "stdout",
     "output_type": "stream",
     "text": [
      "      Unnamed: 0                                              title   \n",
      "0              0  Apple Pay Is Killing the Physical Wallet After...  \\\n",
      "1              1                    The most EXPENSIVE thing I own.   \n",
      "2              2                 My New House Gaming Setup is SICK!   \n",
      "3              3                 My New House Gaming Setup is SICK!   \n",
      "4              4  Petrol Vs Liquid Nitrogen | Freezing Experimen...   \n",
      "...          ...                                                ...   \n",
      "1874        1874  Live Day 1- Introduction To Machine Learning A...   \n",
      "1875        1875  Complete Roadmap for Machine Learning | ML Roa...   \n",
      "1876        1876                 Should You Learn Machine Learning?   \n",
      "1877        1877            Todos podemos aprender Machine learning   \n",
      "1878        1878  Andrew Ng: Deep Learning, Education, and Real-...   \n",
      "\n",
      "         video_id published_at  likes_count  comment_count  view_count   \n",
      "0     wAZZ-UWGVHI   2022-08-23       3407.0          672.0    135612.0  \\\n",
      "1     b3x28s61q3c   2022-08-24      76779.0         4306.0   1758063.0   \n",
      "2     4mgePWWCAmA   2022-08-23      63825.0         3338.0   1564007.0   \n",
      "3     4mgePWWCAmA   2022-08-23      63825.0         3338.0   1564007.0   \n",
      "4     kXiYSI7H2b0   2022-08-23      71566.0         1426.0    922918.0   \n",
      "...           ...          ...          ...            ...         ...   \n",
      "1874  4UJelID_ICw   2022-02-01       1861.0          184.0     37959.0   \n",
      "1875  T4MLrtOKPjY   2021-05-11       9615.0          648.0    319957.0   \n",
      "1876  AO6urf07KjE   2021-06-14      10259.0          416.0    386360.0   \n",
      "1877  7ClLKBUvmRk   2017-10-08       2981.0           72.0    431421.0   \n",
      "1878  0jspaMLxBig   2020-02-20       5198.0          443.0    226152.0   \n",
      "\n",
      "                                               comments  dislikes_count  \n",
      "0     Let's not forget that Apple Pay in 2014 requir...           160.0  \n",
      "1     Wow, you really went to town on the PSU test r...           951.0  \n",
      "2     Linus!!! Just turn the key lights  180 and bou...          1513.0  \n",
      "3     Linus!!! Just turn the key lights  180 and bou...          1513.0  \n",
      "4     Unstoppable experiments with liquid nitrogen 🎉...           521.0  \n",
      "...                                                 ...             ...  \n",
      "1874  7:15 AI vs ML vs DL vs DS\\n17:00 Machine Learn...            98.0  \n",
      "1875  Do you want to learn technology from me? Check...           231.0  \n",
      "1876  I would also like to point out that actually *...           144.0  \n",
      "1877  Me resultó tan inspirador conocerte, Haydé! Me...            79.0  \n",
      "1878  I really enjoyed this conversation with Andrew...            86.0  \n",
      "\n",
      "[1879 rows x 9 columns]\n"
     ]
    }
   ],
   "source": [
    "df_stats['dislikes_count']=np.round(predicted)\n",
    "print(df_stats)\n",
    "df_stats.to_csv('../data/cleaned_datasets/df_stats_with_predicted_dislikes.csv')"
   ],
   "metadata": {
    "collapsed": false,
    "ExecuteTime": {
     "end_time": "2023-05-25T22:38:01.035605Z",
     "start_time": "2023-05-25T22:38:00.957764Z"
    }
   }
  },
  {
   "cell_type": "code",
   "execution_count": 9,
   "outputs": [
    {
     "name": "stdout",
     "output_type": "stream",
     "text": [
      "comment_count: -0.00020769192181512296\n",
      "view_count: -7.233538654088933e-05\n",
      "likes_count: 21.119865924226037\n",
      "dislikes_count: 21.173016448613225\n"
     ]
    }
   ],
   "source": [
    "from sklearn.inspection import permutation_importance\n",
    "\n",
    "# Train the DecisionTreeRegressor model\n",
    "dtree = DecisionTreeRegressor(min_samples_leaf=3,min_samples_split=2)\n",
    "dtree.fit(train_X, train_y)\n",
    "\n",
    "# Calculate permutation importances\n",
    "result = permutation_importance(dtree, test_X, test_y, n_repeats=10)\n",
    "\n",
    "# Get the feature importances and their indices\n",
    "importances = result.importances_mean\n",
    "indices = np.argsort(importances)\n",
    "\n",
    "# Print the feature importances\n",
    "for f in range(train_X.shape[1]):\n",
    "    print(f\"{train_X.columns[indices[f]]}: {importances[indices[f]]}\")"
   ],
   "metadata": {
    "collapsed": false,
    "ExecuteTime": {
     "end_time": "2023-05-24T20:48:26.409874400Z",
     "start_time": "2023-05-24T20:48:26.196919500Z"
    }
   }
  },
  {
   "cell_type": "code",
   "execution_count": 10,
   "outputs": [
    {
     "name": "stdout",
     "output_type": "stream",
     "text": [
      "[-384.17433389  -84.45907651 -646.99120597 -213.7592489  -171.66825701]\n",
      "Min samples Leaf: 1, Mean MSE: 300.21042, Standard Deviation: 198.92330\n",
      "[-277.75907187  -90.75448836 -556.58138925 -265.0219555  -132.43678979]\n",
      "Min samples Leaf: 3, Mean MSE: 264.51074, Standard Deviation: 163.16605\n",
      "[-386.09008453 -196.44110644 -593.71937449 -187.36329835 -160.85246965]\n",
      "Min samples Leaf: 5, Mean MSE: 304.89327, Standard Deviation: 165.12805\n",
      "[-325.80037195 -169.5030596  -640.2807116  -251.43239469 -212.60528344]\n",
      "Min samples Leaf: 7, Mean MSE: 319.92436, Standard Deviation: 168.22474\n"
     ]
    }
   ],
   "source": [
    "from sklearn.model_selection import cross_val_score\n",
    "\n",
    "# Define the range of values for the number of min samples leaf\n",
    "min_samp_leaf = [1, 3, 5,7]\n",
    "\n",
    "# Perform sensitivity analysis by iterating over different values of neighbors\n",
    "for k in min_samp_leaf:\n",
    "    model = DecisionTreeRegressor(min_samples_leaf=k,min_samples_split=2)\n",
    "\n",
    "    # Evaluate the model using cross-validation and the desired metric (e.g., mean squared error)\n",
    "    scores = cross_val_score(model, train_X, train_y, cv=5, scoring='neg_mean_squared_error')\n",
    "\n",
    "    # Calculate the mean and standard deviation of the scores\n",
    "    print(scores)\n",
    "    mean_score = -scores.mean()  # Since scoring='neg_mean_squared_error', we take the negative of the mean score\n",
    "    std_score = scores.std()\n",
    "\n",
    "    # Print the results\n",
    "    print(f\"Min samples Leaf: {k}, Mean MSE: {mean_score:.5f}, Standard Deviation: {std_score:.5f}\")"
   ],
   "metadata": {
    "collapsed": false,
    "ExecuteTime": {
     "end_time": "2023-05-24T20:48:29.455126900Z",
     "start_time": "2023-05-24T20:48:27.569066400Z"
    }
   }
  },
  {
   "cell_type": "code",
   "execution_count": 16,
   "outputs": [],
   "source": [
    "predicted = dtree.predict(test_X)"
   ],
   "metadata": {
    "collapsed": false,
    "ExecuteTime": {
     "end_time": "2023-05-24T20:50:10.226404700Z",
     "start_time": "2023-05-24T20:50:10.219891Z"
    }
   }
  },
  {
   "cell_type": "code",
   "execution_count": 17,
   "outputs": [
    {
     "data": {
      "text/plain": "118.04314123005595"
     },
     "execution_count": 17,
     "metadata": {},
     "output_type": "execute_result"
    }
   ],
   "source": [
    "# MSE is used to evaluate the performance of estimators. A lower MSE indicates that the estimator is more accurate. MSE can also be used to compare the performance of different estimators.\n",
    "mse = mean_squared_error(test_y, predicted)\n",
    "mse"
   ],
   "metadata": {
    "collapsed": false,
    "ExecuteTime": {
     "end_time": "2023-05-24T20:50:11.500890700Z",
     "start_time": "2023-05-24T20:50:11.494390900Z"
    }
   }
  },
  {
   "cell_type": "code",
   "execution_count": 18,
   "outputs": [
    {
     "data": {
      "text/plain": "0.9789952058281683"
     },
     "execution_count": 18,
     "metadata": {},
     "output_type": "execute_result"
    }
   ],
   "source": [
    "#In statistics, the coefficient of determination, or R-squared, is a measure of how well a model fits a set of data. It is calculated as the ratio of the variance explained by the model to the total variance in the data.\n",
    "r_squared = r2_score(test_y, predicted)\n",
    "r_squared\n",
    "\n",
    "# This means that the linear regression model explains 67.24% of the variance in the data."
   ],
   "metadata": {
    "collapsed": false,
    "ExecuteTime": {
     "end_time": "2023-05-24T20:50:11.988801700Z",
     "start_time": "2023-05-24T20:50:11.983327Z"
    }
   }
  },
  {
   "cell_type": "code",
   "execution_count": 19,
   "outputs": [
    {
     "data": {
      "text/plain": "2.7604696786453378"
     },
     "execution_count": 19,
     "metadata": {},
     "output_type": "execute_result"
    }
   ],
   "source": [
    "from sklearn.metrics import mean_absolute_error\n",
    "\n",
    "#If the MAE is 0, this means that the predicted values are perfectly accurate.\n",
    "# Calculate the accuracy score\n",
    "mae = mean_absolute_error(test_y, predicted)\n",
    "mae"
   ],
   "metadata": {
    "collapsed": false,
    "ExecuteTime": {
     "end_time": "2023-05-24T20:50:12.595851300Z",
     "start_time": "2023-05-24T20:50:12.590426800Z"
    }
   }
  },
  {
   "cell_type": "code",
   "execution_count": 20,
   "outputs": [
    {
     "data": {
      "text/plain": "       likes_views_ratio   Predicted     Error\n36171          15.440281   15.608035 -0.167754\n34553          44.593028   43.442532  1.150495\n21934          24.774297   24.711366  0.062931\n14719          19.935759   19.237536  0.698223\n20114         193.395564  194.085684 -0.690121\n...                  ...         ...       ...\n2853           32.296875   31.790551  0.506324\n5261           22.917402   22.515803  0.401599\n10130          30.067073   30.655100 -0.588027\n8195          239.596914  248.200980 -8.604066\n11051          25.868214   23.825478  2.042736\n\n[9316 rows x 3 columns]",
      "text/html": "<div>\n<style scoped>\n    .dataframe tbody tr th:only-of-type {\n        vertical-align: middle;\n    }\n\n    .dataframe tbody tr th {\n        vertical-align: top;\n    }\n\n    .dataframe thead th {\n        text-align: right;\n    }\n</style>\n<table border=\"1\" class=\"dataframe\">\n  <thead>\n    <tr style=\"text-align: right;\">\n      <th></th>\n      <th>likes_views_ratio</th>\n      <th>Predicted</th>\n      <th>Error</th>\n    </tr>\n  </thead>\n  <tbody>\n    <tr>\n      <th>36171</th>\n      <td>15.440281</td>\n      <td>15.608035</td>\n      <td>-0.167754</td>\n    </tr>\n    <tr>\n      <th>34553</th>\n      <td>44.593028</td>\n      <td>43.442532</td>\n      <td>1.150495</td>\n    </tr>\n    <tr>\n      <th>21934</th>\n      <td>24.774297</td>\n      <td>24.711366</td>\n      <td>0.062931</td>\n    </tr>\n    <tr>\n      <th>14719</th>\n      <td>19.935759</td>\n      <td>19.237536</td>\n      <td>0.698223</td>\n    </tr>\n    <tr>\n      <th>20114</th>\n      <td>193.395564</td>\n      <td>194.085684</td>\n      <td>-0.690121</td>\n    </tr>\n    <tr>\n      <th>...</th>\n      <td>...</td>\n      <td>...</td>\n      <td>...</td>\n    </tr>\n    <tr>\n      <th>2853</th>\n      <td>32.296875</td>\n      <td>31.790551</td>\n      <td>0.506324</td>\n    </tr>\n    <tr>\n      <th>5261</th>\n      <td>22.917402</td>\n      <td>22.515803</td>\n      <td>0.401599</td>\n    </tr>\n    <tr>\n      <th>10130</th>\n      <td>30.067073</td>\n      <td>30.655100</td>\n      <td>-0.588027</td>\n    </tr>\n    <tr>\n      <th>8195</th>\n      <td>239.596914</td>\n      <td>248.200980</td>\n      <td>-8.604066</td>\n    </tr>\n    <tr>\n      <th>11051</th>\n      <td>25.868214</td>\n      <td>23.825478</td>\n      <td>2.042736</td>\n    </tr>\n  </tbody>\n</table>\n<p>9316 rows × 3 columns</p>\n</div>"
     },
     "execution_count": 20,
     "metadata": {},
     "output_type": "execute_result"
    }
   ],
   "source": [
    "df = pd.DataFrame()\n",
    "df['likes_views_ratio']= test_y\n",
    "df['Predicted']=predicted\n",
    "df['Error']=df['likes_views_ratio']-df['Predicted']\n",
    "df"
   ],
   "metadata": {
    "collapsed": false,
    "ExecuteTime": {
     "end_time": "2023-05-24T20:50:13.718112400Z",
     "start_time": "2023-05-24T20:50:13.710725800Z"
    }
   }
  },
  {
   "cell_type": "code",
   "execution_count": null,
   "outputs": [],
   "source": [],
   "metadata": {
    "collapsed": false
   }
  }
 ],
 "metadata": {
  "kernelspec": {
   "display_name": "Python 3",
   "language": "python",
   "name": "python3"
  },
  "language_info": {
   "codemirror_mode": {
    "name": "ipython",
    "version": 2
   },
   "file_extension": ".py",
   "mimetype": "text/x-python",
   "name": "python",
   "nbconvert_exporter": "python",
   "pygments_lexer": "ipython2",
   "version": "2.7.6"
  }
 },
 "nbformat": 4,
 "nbformat_minor": 0
}
