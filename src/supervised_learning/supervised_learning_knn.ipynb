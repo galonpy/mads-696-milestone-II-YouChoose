{
 "cells": [
  {
   "cell_type": "markdown",
   "source": [
    "Author: Shailendra Chalasani\n",
    "Intention: Supervised Learning Likes to dislikes ratio - KNN"
   ],
   "metadata": {
    "collapsed": false
   }
  },
  {
   "cell_type": "code",
   "execution_count": 23,
   "outputs": [],
   "source": [
    "import gzip\n",
    "import json\n",
    "import matplotlib.pyplot as plt\n",
    "import numpy as np\n",
    "import re\n",
    "import seaborn as sns\n",
    "import pandas as pd\n",
    "from collections import Counter, defaultdict\n",
    "from sklearn.neighbors import KNeighborsRegressor\n",
    "from sklearn.dummy import DummyRegressor\n",
    "from sklearn.feature_extraction.text import TfidfVectorizer\n",
    "from sklearn.linear_model import LinearRegression\n",
    "from sklearn.metrics import mean_squared_error, r2_score\n",
    "from sklearn.model_selection import train_test_split\n",
    "from tqdm import tqdm\n",
    "\n",
    "from sklearn.pipeline import Pipeline\n",
    "from sklearn.compose import ColumnTransformer\n",
    "from sklearn.ensemble import RandomForestClassifier\n",
    "from sklearn.feature_extraction.text import TfidfVectorizer"
   ],
   "metadata": {
    "collapsed": false,
    "ExecuteTime": {
     "end_time": "2023-06-13T14:41:27.675772600Z",
     "start_time": "2023-06-13T14:41:27.673647800Z"
    }
   }
  },
  {
   "cell_type": "code",
   "execution_count": 24,
   "outputs": [
    {
     "name": "stdout",
     "output_type": "stream",
     "text": [
      "37422\n",
      "37264\n"
     ]
    }
   ],
   "source": [
    "df_video_dislikes = pd.read_csv(f\"../../data/cleaned_datasets/df_video_dislikes.csv\")\n",
    "print(len(df_video_dislikes))\n",
    "df_video_dislikes.dropna(inplace=True)\n",
    "print(len(df_video_dislikes))"
   ],
   "metadata": {
    "collapsed": false,
    "ExecuteTime": {
     "end_time": "2023-06-13T14:41:28.921069200Z",
     "start_time": "2023-06-13T14:41:27.677772600Z"
    }
   }
  },
  {
   "cell_type": "code",
   "execution_count": 25,
   "outputs": [
    {
     "data": {
      "text/plain": "Index(['Unnamed: 0.1', 'Unnamed: 0', 'video_id', 'title', 'published_at',\n       'view_count', 'likes_count', 'dislikes_count', 'comment_count', 'tags',\n       'description', 'comments', 'topic1', 'topic2', 'topic3'],\n      dtype='object')"
     },
     "execution_count": 25,
     "metadata": {},
     "output_type": "execute_result"
    }
   ],
   "source": [
    "df_video_dislikes.columns"
   ],
   "metadata": {
    "collapsed": false,
    "ExecuteTime": {
     "end_time": "2023-06-13T14:41:28.927997300Z",
     "start_time": "2023-06-13T14:41:28.922068600Z"
    }
   }
  },
  {
   "cell_type": "code",
   "execution_count": 26,
   "outputs": [
    {
     "data": {
      "text/plain": "       view_count  likes_count  dislikes_count  comment_count  topic1  topic2   \n0         1048888        19515             226           1319       2       9  \\\n1        15352638       359277            7479          18729       5       7   \n2          925281        11212             401            831       1       2   \n3         2641597        39131             441           3745       5       3   \n4          715724        32887             367           1067       5       0   \n...           ...          ...             ...            ...     ...     ...   \n37417   120408275      2180780           35871          81360       5       0   \n37418     2841917        20759            1049           2624       6       9   \n37419    13346678       720854            4426          90616       1       7   \n37420      252057        19198            1234           1471       9       8   \n37421     2252090        34063             868           2004       9       7   \n\n       topic3  \n0           3  \n1           1  \n2           9  \n3           7  \n4           1  \n...       ...  \n37417       8  \n37418       7  \n37419       8  \n37420       0  \n37421       1  \n\n[37264 rows x 7 columns]",
      "text/html": "<div>\n<style scoped>\n    .dataframe tbody tr th:only-of-type {\n        vertical-align: middle;\n    }\n\n    .dataframe tbody tr th {\n        vertical-align: top;\n    }\n\n    .dataframe thead th {\n        text-align: right;\n    }\n</style>\n<table border=\"1\" class=\"dataframe\">\n  <thead>\n    <tr style=\"text-align: right;\">\n      <th></th>\n      <th>view_count</th>\n      <th>likes_count</th>\n      <th>dislikes_count</th>\n      <th>comment_count</th>\n      <th>topic1</th>\n      <th>topic2</th>\n      <th>topic3</th>\n    </tr>\n  </thead>\n  <tbody>\n    <tr>\n      <th>0</th>\n      <td>1048888</td>\n      <td>19515</td>\n      <td>226</td>\n      <td>1319</td>\n      <td>2</td>\n      <td>9</td>\n      <td>3</td>\n    </tr>\n    <tr>\n      <th>1</th>\n      <td>15352638</td>\n      <td>359277</td>\n      <td>7479</td>\n      <td>18729</td>\n      <td>5</td>\n      <td>7</td>\n      <td>1</td>\n    </tr>\n    <tr>\n      <th>2</th>\n      <td>925281</td>\n      <td>11212</td>\n      <td>401</td>\n      <td>831</td>\n      <td>1</td>\n      <td>2</td>\n      <td>9</td>\n    </tr>\n    <tr>\n      <th>3</th>\n      <td>2641597</td>\n      <td>39131</td>\n      <td>441</td>\n      <td>3745</td>\n      <td>5</td>\n      <td>3</td>\n      <td>7</td>\n    </tr>\n    <tr>\n      <th>4</th>\n      <td>715724</td>\n      <td>32887</td>\n      <td>367</td>\n      <td>1067</td>\n      <td>5</td>\n      <td>0</td>\n      <td>1</td>\n    </tr>\n    <tr>\n      <th>...</th>\n      <td>...</td>\n      <td>...</td>\n      <td>...</td>\n      <td>...</td>\n      <td>...</td>\n      <td>...</td>\n      <td>...</td>\n    </tr>\n    <tr>\n      <th>37417</th>\n      <td>120408275</td>\n      <td>2180780</td>\n      <td>35871</td>\n      <td>81360</td>\n      <td>5</td>\n      <td>0</td>\n      <td>8</td>\n    </tr>\n    <tr>\n      <th>37418</th>\n      <td>2841917</td>\n      <td>20759</td>\n      <td>1049</td>\n      <td>2624</td>\n      <td>6</td>\n      <td>9</td>\n      <td>7</td>\n    </tr>\n    <tr>\n      <th>37419</th>\n      <td>13346678</td>\n      <td>720854</td>\n      <td>4426</td>\n      <td>90616</td>\n      <td>1</td>\n      <td>7</td>\n      <td>8</td>\n    </tr>\n    <tr>\n      <th>37420</th>\n      <td>252057</td>\n      <td>19198</td>\n      <td>1234</td>\n      <td>1471</td>\n      <td>9</td>\n      <td>8</td>\n      <td>0</td>\n    </tr>\n    <tr>\n      <th>37421</th>\n      <td>2252090</td>\n      <td>34063</td>\n      <td>868</td>\n      <td>2004</td>\n      <td>9</td>\n      <td>7</td>\n      <td>1</td>\n    </tr>\n  </tbody>\n</table>\n<p>37264 rows × 7 columns</p>\n</div>"
     },
     "execution_count": 26,
     "metadata": {},
     "output_type": "execute_result"
    }
   ],
   "source": [
    "# df_video_dislikes = df_video_dislikes[['title','view_count','likes_count','dislikes_count','comment_count','tags','description','comments']]\n",
    "df_video_dislikes = df_video_dislikes[['view_count','likes_count','dislikes_count','comment_count','topic1','topic2','topic3']]\n",
    "# df_video_dislikes['likes_dislikes_ratio'] = df_video_dislikes['likes_count']/df_video_dislikes['dislikes_count']\n",
    "df_video_dislikes"
   ],
   "metadata": {
    "collapsed": false,
    "ExecuteTime": {
     "end_time": "2023-06-13T14:41:30.490039500Z",
     "start_time": "2023-06-13T14:41:30.442194700Z"
    }
   }
  },
  {
   "cell_type": "code",
   "execution_count": 27,
   "outputs": [],
   "source": [
    "from sklearn.preprocessing import StandardScaler\n",
    "\n",
    "X = df_video_dislikes[['view_count','likes_count','comment_count','topic1','topic2','topic3']]\n",
    "y =df_video_dislikes['dislikes_count']\n",
    "\n",
    "train_X, test_X, train_y, test_y = train_test_split(X, y, random_state=0)\n",
    "\n",
    "scaler = StandardScaler().fit(train_X)\n",
    "X_train = scaler.transform(train_X)\n",
    "X_test = scaler.transform(test_X)"
   ],
   "metadata": {
    "collapsed": false,
    "ExecuteTime": {
     "end_time": "2023-06-13T14:41:51.020063200Z",
     "start_time": "2023-06-13T14:41:51.007668100Z"
    }
   }
  },
  {
   "cell_type": "code",
   "execution_count": 28,
   "outputs": [
    {
     "name": "stdout",
     "output_type": "stream",
     "text": [
      "Mean R2 Score: 0.43595942103077184\n",
      "Standard Deviation of R2 Score: 0.038349126747694015\n",
      "Best Parameters: {'metric': 'manhattan', 'n_neighbors': 25, 'weights': 'distance'}\n"
     ]
    }
   ],
   "source": [
    "from sklearn.model_selection import GridSearchCV, cross_val_score\n",
    "from sklearn.neighbors import KNeighborsRegressor\n",
    "import numpy as np\n",
    "\n",
    "# Create the KNeighborsRegressor object\n",
    "knn = KNeighborsRegressor()\n",
    "\n",
    "# Define the parameter grid for grid search\n",
    "param_grid = {\n",
    "    'n_neighbors': [3, 5, 7,9,11,13,15,17,19,21,23,25],\n",
    "    'weights': ['uniform', 'distance'],\n",
    "    'metric': ['euclidean', 'manhattan']\n",
    "}\n",
    "\n",
    "# Create the GridSearchCV object\n",
    "grid_search = GridSearchCV(estimator=knn, param_grid=param_grid, scoring='r2', cv=5)\n",
    "\n",
    "# Fit the GridSearchCV object to the data\n",
    "grid_search.fit(train_X, train_y)\n",
    "\n",
    "# Get the mean and standard deviation of the R2 scores\n",
    "r2_scores = grid_search.cv_results_['mean_test_score']\n",
    "r2_mean = np.mean(r2_scores)\n",
    "r2_std = np.std(r2_scores)\n",
    "\n",
    "# Get the best parameters\n",
    "best_params = grid_search.best_params_\n",
    "\n",
    "print(\"Mean R2 Score:\", r2_mean)\n",
    "print(\"Standard Deviation of R2 Score:\", r2_std)\n",
    "print(\"Best Parameters:\", best_params)\n"
   ],
   "metadata": {
    "collapsed": false,
    "ExecuteTime": {
     "end_time": "2023-06-13T14:42:10.068949200Z",
     "start_time": "2023-06-13T14:42:00.179303600Z"
    }
   }
  },
  {
   "cell_type": "code",
   "execution_count": 29,
   "outputs": [
    {
     "name": "stdout",
     "output_type": "stream",
     "text": [
      "topic3: -7.44894580906319e-08\n",
      "topic2: 3.7521667384243784e-08\n",
      "topic1: 4.0703306791733953e-08\n",
      "comment_count: 0.0006088099176504325\n",
      "likes_count: 0.03365021487976334\n",
      "view_count: 0.4624124622734917\n"
     ]
    }
   ],
   "source": [
    "import numpy as np\n",
    "from sklearn.model_selection import train_test_split\n",
    "from sklearn.neighbors import KNeighborsRegressor\n",
    "from sklearn.inspection import permutation_importance\n",
    "\n",
    "\n",
    "# Train the KNeighborsRegressor model\n",
    "knn = KNeighborsRegressor(n_neighbors=25, metric='manhattan', weights='distance')\n",
    "knn.fit(train_X, train_y)\n",
    "\n",
    "# Calculate permutation importances\n",
    "result = permutation_importance(knn, test_X, test_y, n_repeats=10)\n",
    "\n",
    "# Get the feature importances and their indices\n",
    "importances = result.importances_mean\n",
    "indices = np.argsort(importances)\n",
    "\n",
    "# Print the feature importances\n",
    "for f in range(train_X.shape[1]):\n",
    "    print(f\"{train_X.columns[indices[f]]}: {importances[indices[f]]}\")\n",
    "\n"
   ],
   "metadata": {
    "collapsed": false,
    "ExecuteTime": {
     "end_time": "2023-06-13T14:42:33.194579600Z",
     "start_time": "2023-06-13T14:42:29.743987900Z"
    }
   }
  },
  {
   "cell_type": "code",
   "execution_count": 30,
   "outputs": [
    {
     "name": "stdout",
     "output_type": "stream",
     "text": [
      "[-7.23591148e+08 -2.67652550e+08 -4.90521414e+08 -3.69771281e+08\n",
      " -6.05461653e+08]\n",
      "Number of neighbors: 3, Mean MSE: 491399609.18012, Standard Deviation: 162345328.28145\n",
      "[-7.20529883e+08 -2.58108833e+08 -5.62927748e+08 -3.20880058e+08\n",
      " -5.97993445e+08]\n",
      "Number of neighbors: 5, Mean MSE: 492087993.39273, Standard Deviation: 174630087.09031\n",
      "[-7.20967384e+08 -2.67681840e+08 -5.83329225e+08 -3.00150512e+08\n",
      " -4.83733979e+08]\n",
      "Number of neighbors: 7, Mean MSE: 471172588.07516, Standard Deviation: 170757942.51390\n",
      "[-7.56380205e+08 -2.39081656e+08 -6.07273435e+08 -2.82303472e+08\n",
      " -4.68714038e+08]\n",
      "Number of neighbors: 9, Mean MSE: 470750561.41666, Standard Deviation: 194632845.34154\n",
      "[-7.89498753e+08 -2.14860830e+08 -5.90607392e+08 -2.87146984e+08\n",
      " -4.50154835e+08]\n",
      "Number of neighbors: 11, Mean MSE: 466453758.71384, Standard Deviation: 207599503.49428\n",
      "[-8.15546059e+08 -2.20666266e+08 -5.66863621e+08 -2.65321012e+08\n",
      " -4.58434465e+08]\n",
      "Number of neighbors: 13, Mean MSE: 465366284.29301, Standard Deviation: 215810956.21839\n",
      "[-8.36463606e+08 -2.08509335e+08 -5.59458296e+08 -2.48738188e+08\n",
      " -4.58378382e+08]\n",
      "Number of neighbors: 15, Mean MSE: 462309561.25131, Standard Deviation: 227803365.27756\n",
      "[-8.51414388e+08 -2.11474125e+08 -5.52324832e+08 -2.46450851e+08\n",
      " -4.58583733e+08]\n",
      "Number of neighbors: 17, Mean MSE: 464049585.77341, Standard Deviation: 231955796.16832\n",
      "[-8.31021984e+08 -2.12339188e+08 -5.60126790e+08 -2.31327216e+08\n",
      " -4.53816170e+08]\n",
      "Number of neighbors: 19, Mean MSE: 457726269.48583, Standard Deviation: 228614171.63569\n",
      "[-8.39727495e+08 -2.10561556e+08 -5.70289635e+08 -2.26396222e+08\n",
      " -4.40967790e+08]\n",
      "Number of neighbors: 21, Mean MSE: 457588539.66526, Standard Deviation: 233871839.33617\n",
      "[-8.54491562e+08 -2.00996797e+08 -5.75751840e+08 -2.22447696e+08\n",
      " -4.38912057e+08]\n",
      "Number of neighbors: 23, Mean MSE: 458519990.27271, Standard Deviation: 242061804.80262\n",
      "[-8.56636622e+08 -1.98716949e+08 -5.79074154e+08 -2.26863081e+08\n",
      " -4.33049832e+08]\n",
      "Number of neighbors: 25, Mean MSE: 458868127.71454, Standard Deviation: 242833616.31212\n"
     ]
    }
   ],
   "source": [
    "from sklearn.neighbors import KNeighborsRegressor\n",
    "from sklearn.model_selection import cross_val_score\n",
    "\n",
    "# Define the range of values for the number of neighbors (hyperparameter)\n",
    "neighbors = [3, 5, 7,9,11,13,15,17,19,21,23,25]\n",
    "\n",
    "# Perform sensitivity analysis by iterating over different values of neighbors\n",
    "for k in neighbors:\n",
    "    # Instantiate the KNN regressor with the current number of neighbors\n",
    "    model = KNeighborsRegressor(n_neighbors=k)\n",
    "\n",
    "    # Evaluate the model using cross-validation and the desired metric (e.g., mean squared error)\n",
    "    scores = cross_val_score(model, train_X, train_y, cv=5, scoring='neg_mean_squared_error')\n",
    "\n",
    "    # Calculate the mean and standard deviation of the scores\n",
    "    print(scores)\n",
    "    mean_score = -scores.mean()  # Since scoring='neg_mean_squared_error', we take the negative of the mean score\n",
    "    std_score = scores.std()\n",
    "\n",
    "    # Print the results\n",
    "    print(f\"Number of neighbors: {k}, Mean MSE: {mean_score:.5f}, Standard Deviation: {std_score:.5f}\")\n"
   ],
   "metadata": {
    "collapsed": false,
    "ExecuteTime": {
     "end_time": "2023-06-13T14:42:57.808499300Z",
     "start_time": "2023-06-13T14:42:55.235181700Z"
    }
   }
  },
  {
   "cell_type": "code",
   "execution_count": 12,
   "outputs": [],
   "source": [],
   "metadata": {
    "collapsed": false,
    "ExecuteTime": {
     "end_time": "2023-05-20T17:38:30.028270400Z",
     "start_time": "2023-05-20T17:38:30.027268700Z"
    }
   }
  }
 ],
 "metadata": {
  "kernelspec": {
   "display_name": "Python 3",
   "language": "python",
   "name": "python3"
  },
  "language_info": {
   "codemirror_mode": {
    "name": "ipython",
    "version": 2
   },
   "file_extension": ".py",
   "mimetype": "text/x-python",
   "name": "python",
   "nbconvert_exporter": "python",
   "pygments_lexer": "ipython2",
   "version": "2.7.6"
  }
 },
 "nbformat": 4,
 "nbformat_minor": 0
}
