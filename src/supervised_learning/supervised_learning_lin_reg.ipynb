{
 "cells": [
  {
   "cell_type": "markdown",
   "source": [
    "Author: Shailendra Chalasani\n",
    "Intention: Supervised Learning Likes to dislikes ratio - Linear Regression"
   ],
   "metadata": {
    "collapsed": false
   }
  },
  {
   "cell_type": "code",
   "execution_count": 17,
   "outputs": [],
   "source": [
    "import gzip\n",
    "import json\n",
    "import matplotlib.pyplot as plt\n",
    "import numpy as np\n",
    "import re\n",
    "import seaborn as sns\n",
    "import pandas as pd\n",
    "from collections import Counter, defaultdict\n",
    "from sklearn.neighbors import KNeighborsRegressor\n",
    "from sklearn.dummy import DummyRegressor\n",
    "from sklearn.feature_extraction.text import TfidfVectorizer\n",
    "from sklearn.linear_model import LinearRegression\n",
    "from sklearn.metrics import mean_squared_error, r2_score\n",
    "from sklearn.model_selection import train_test_split\n",
    "from tqdm import tqdm\n",
    "\n",
    "from sklearn.pipeline import Pipeline\n",
    "from sklearn.compose import ColumnTransformer\n",
    "from sklearn.ensemble import RandomForestClassifier\n",
    "from sklearn.feature_extraction.text import TfidfVectorizer"
   ],
   "metadata": {
    "collapsed": false,
    "ExecuteTime": {
     "end_time": "2023-06-13T14:44:32.251993Z",
     "start_time": "2023-06-13T14:44:32.248166100Z"
    }
   }
  },
  {
   "cell_type": "code",
   "execution_count": 18,
   "outputs": [
    {
     "name": "stdout",
     "output_type": "stream",
     "text": [
      "37422\n",
      "37264\n"
     ]
    }
   ],
   "source": [
    "df_video_dislikes = pd.read_csv(f\"../../data/cleaned_datasets/df_video_dislikes.csv\")\n",
    "print(len(df_video_dislikes))\n",
    "df_video_dislikes.dropna(inplace=True)\n",
    "print(len(df_video_dislikes))"
   ],
   "metadata": {
    "collapsed": false,
    "ExecuteTime": {
     "end_time": "2023-06-13T14:44:33.435602600Z",
     "start_time": "2023-06-13T14:44:32.253993900Z"
    }
   }
  },
  {
   "cell_type": "code",
   "execution_count": 19,
   "outputs": [
    {
     "data": {
      "text/plain": "Index(['Unnamed: 0.1', 'Unnamed: 0', 'video_id', 'title', 'published_at',\n       'view_count', 'likes_count', 'dislikes_count', 'comment_count', 'tags',\n       'description', 'comments', 'topic1', 'topic2', 'topic3'],\n      dtype='object')"
     },
     "execution_count": 19,
     "metadata": {},
     "output_type": "execute_result"
    }
   ],
   "source": [
    "df_video_dislikes.columns"
   ],
   "metadata": {
    "collapsed": false,
    "ExecuteTime": {
     "end_time": "2023-06-13T14:44:33.441249700Z",
     "start_time": "2023-06-13T14:44:33.436603500Z"
    }
   }
  },
  {
   "cell_type": "code",
   "execution_count": 20,
   "outputs": [
    {
     "data": {
      "text/plain": "       view_count  likes_count  dislikes_count  comment_count  topic1  topic2   \n0         1048888        19515             226           1319       2       9  \\\n1        15352638       359277            7479          18729       5       7   \n2          925281        11212             401            831       1       2   \n3         2641597        39131             441           3745       5       3   \n4          715724        32887             367           1067       5       0   \n...           ...          ...             ...            ...     ...     ...   \n37417   120408275      2180780           35871          81360       5       0   \n37418     2841917        20759            1049           2624       6       9   \n37419    13346678       720854            4426          90616       1       7   \n37420      252057        19198            1234           1471       9       8   \n37421     2252090        34063             868           2004       9       7   \n\n       topic3  \n0           3  \n1           1  \n2           9  \n3           7  \n4           1  \n...       ...  \n37417       8  \n37418       7  \n37419       8  \n37420       0  \n37421       1  \n\n[37264 rows x 7 columns]",
      "text/html": "<div>\n<style scoped>\n    .dataframe tbody tr th:only-of-type {\n        vertical-align: middle;\n    }\n\n    .dataframe tbody tr th {\n        vertical-align: top;\n    }\n\n    .dataframe thead th {\n        text-align: right;\n    }\n</style>\n<table border=\"1\" class=\"dataframe\">\n  <thead>\n    <tr style=\"text-align: right;\">\n      <th></th>\n      <th>view_count</th>\n      <th>likes_count</th>\n      <th>dislikes_count</th>\n      <th>comment_count</th>\n      <th>topic1</th>\n      <th>topic2</th>\n      <th>topic3</th>\n    </tr>\n  </thead>\n  <tbody>\n    <tr>\n      <th>0</th>\n      <td>1048888</td>\n      <td>19515</td>\n      <td>226</td>\n      <td>1319</td>\n      <td>2</td>\n      <td>9</td>\n      <td>3</td>\n    </tr>\n    <tr>\n      <th>1</th>\n      <td>15352638</td>\n      <td>359277</td>\n      <td>7479</td>\n      <td>18729</td>\n      <td>5</td>\n      <td>7</td>\n      <td>1</td>\n    </tr>\n    <tr>\n      <th>2</th>\n      <td>925281</td>\n      <td>11212</td>\n      <td>401</td>\n      <td>831</td>\n      <td>1</td>\n      <td>2</td>\n      <td>9</td>\n    </tr>\n    <tr>\n      <th>3</th>\n      <td>2641597</td>\n      <td>39131</td>\n      <td>441</td>\n      <td>3745</td>\n      <td>5</td>\n      <td>3</td>\n      <td>7</td>\n    </tr>\n    <tr>\n      <th>4</th>\n      <td>715724</td>\n      <td>32887</td>\n      <td>367</td>\n      <td>1067</td>\n      <td>5</td>\n      <td>0</td>\n      <td>1</td>\n    </tr>\n    <tr>\n      <th>...</th>\n      <td>...</td>\n      <td>...</td>\n      <td>...</td>\n      <td>...</td>\n      <td>...</td>\n      <td>...</td>\n      <td>...</td>\n    </tr>\n    <tr>\n      <th>37417</th>\n      <td>120408275</td>\n      <td>2180780</td>\n      <td>35871</td>\n      <td>81360</td>\n      <td>5</td>\n      <td>0</td>\n      <td>8</td>\n    </tr>\n    <tr>\n      <th>37418</th>\n      <td>2841917</td>\n      <td>20759</td>\n      <td>1049</td>\n      <td>2624</td>\n      <td>6</td>\n      <td>9</td>\n      <td>7</td>\n    </tr>\n    <tr>\n      <th>37419</th>\n      <td>13346678</td>\n      <td>720854</td>\n      <td>4426</td>\n      <td>90616</td>\n      <td>1</td>\n      <td>7</td>\n      <td>8</td>\n    </tr>\n    <tr>\n      <th>37420</th>\n      <td>252057</td>\n      <td>19198</td>\n      <td>1234</td>\n      <td>1471</td>\n      <td>9</td>\n      <td>8</td>\n      <td>0</td>\n    </tr>\n    <tr>\n      <th>37421</th>\n      <td>2252090</td>\n      <td>34063</td>\n      <td>868</td>\n      <td>2004</td>\n      <td>9</td>\n      <td>7</td>\n      <td>1</td>\n    </tr>\n  </tbody>\n</table>\n<p>37264 rows × 7 columns</p>\n</div>"
     },
     "execution_count": 20,
     "metadata": {},
     "output_type": "execute_result"
    }
   ],
   "source": [
    "# df_video_dislikes = df_video_dislikes[['title','view_count','likes_count','dislikes_count','comment_count','tags','description','comments']]\n",
    "df_video_dislikes = df_video_dislikes[['view_count','likes_count','dislikes_count','comment_count','topic1','topic2','topic3']]\n",
    "# df_video_dislikes['likes_dislikes_ratio'] = df_video_dislikes['likes_count']/df_video_dislikes['dislikes_count']\n",
    "df_video_dislikes"
   ],
   "metadata": {
    "collapsed": false,
    "ExecuteTime": {
     "end_time": "2023-06-13T14:44:33.517141100Z",
     "start_time": "2023-06-13T14:44:33.442251200Z"
    }
   }
  },
  {
   "cell_type": "code",
   "execution_count": 21,
   "outputs": [],
   "source": [
    "from sklearn.preprocessing import StandardScaler\n",
    "\n",
    "X = df_video_dislikes[['view_count','likes_count','comment_count','topic1','topic2','topic3']]\n",
    "y =df_video_dislikes['dislikes_count']\n",
    "\n",
    "train_X, test_X, train_y, test_y = train_test_split(X, y, random_state=0)\n",
    "\n",
    "scaler = StandardScaler().fit(train_X)\n",
    "X_train = scaler.transform(train_X)\n",
    "X_test = scaler.transform(test_X)"
   ],
   "metadata": {
    "collapsed": false,
    "ExecuteTime": {
     "end_time": "2023-06-13T14:44:50.040206500Z",
     "start_time": "2023-06-13T14:44:50.028617100Z"
    }
   }
  },
  {
   "cell_type": "code",
   "execution_count": 22,
   "outputs": [
    {
     "name": "stdout",
     "output_type": "stream",
     "text": [
      "Mean R2 Score: 0.5545743841367532\n",
      "Standard Deviation of R2 Score: 8.226168792052624e-05\n",
      "Best Parameters: {'fit_intercept': True}\n"
     ]
    }
   ],
   "source": [
    "from sklearn.model_selection import GridSearchCV, cross_val_score\n",
    "from sklearn.linear_model import LinearRegression\n",
    "import numpy as np\n",
    "\n",
    "# Create the LinearRegression object\n",
    "linear_reg = LinearRegression()\n",
    "\n",
    "# Define the parameter grid for grid search\n",
    "param_grid = {\n",
    "    'fit_intercept': [True, False]\n",
    "}\n",
    "\n",
    "# Create the GridSearchCV object\n",
    "grid_search = GridSearchCV(estimator=linear_reg, param_grid=param_grid, scoring='r2', cv=5)\n",
    "\n",
    "# Fit the GridSearchCV object to the data\n",
    "grid_search.fit(train_X, train_y)\n",
    "\n",
    "# Get the mean and standard deviation of the R2 scores\n",
    "r2_scores = grid_search.cv_results_['mean_test_score']\n",
    "r2_mean = np.mean(r2_scores)\n",
    "r2_std = np.std(r2_scores)\n",
    "\n",
    "# Get the best parameters\n",
    "best_params = grid_search.best_params_\n",
    "\n",
    "print(\"Mean R2 Score:\", r2_mean)\n",
    "print(\"Standard Deviation of R2 Score:\", r2_std)\n",
    "print(\"Best Parameters:\", best_params)\n",
    "\n",
    "# If the R-squared (R2) score is negative, it means that the model performs worse than a horizontal line fitted to the data.\n",
    "# In other words, the model's predictions are not capturing the underlying patterns or variability in the data, and it might be a poor fit for the given problem."
   ],
   "metadata": {
    "collapsed": false,
    "ExecuteTime": {
     "end_time": "2023-06-13T14:44:53.523404600Z",
     "start_time": "2023-06-13T14:44:53.449204Z"
    }
   }
  },
  {
   "cell_type": "code",
   "execution_count": 28,
   "outputs": [
    {
     "name": "stdout",
     "output_type": "stream",
     "text": [
      "topic2: -3.279076882533039e-05\n",
      "topic1: -3.6161815099133852e-06\n",
      "comment_count: 9.96339445512473e-05\n",
      "topic3: 0.00026474972196400827\n",
      "view_count: 0.15187198936017507\n",
      "likes_count: 0.1653049994890819\n"
     ]
    }
   ],
   "source": [
    "# MSE is used to evaluate the performance of estimators. A lower MSE indicates that the estimator is more accurate. MSE can also be used to compare the performance of different estimators.\n",
    "from sklearn.inspection import permutation_importance\n",
    "\n",
    "# Train the DecisionTreeRegressor model\n",
    "lreg = LinearRegression()\n",
    "lreg.fit(train_X, train_y)\n",
    "\n",
    "# Calculate permutation importances\n",
    "result = permutation_importance(lreg, test_X, test_y, n_repeats=10)\n",
    "\n",
    "# Get the feature importances and their indices\n",
    "importances = result.importances_mean\n",
    "indices = np.argsort(importances)\n",
    "\n",
    "# Print the feature importances\n",
    "for f in range(train_X.shape[1]):\n",
    "    print(f\"{train_X.columns[indices[f]]}: {importances[indices[f]]}\")"
   ],
   "metadata": {
    "collapsed": false,
    "ExecuteTime": {
     "end_time": "2023-06-13T15:09:20.563793700Z",
     "start_time": "2023-06-13T15:09:20.467583700Z"
    }
   }
  },
  {
   "cell_type": "code",
   "execution_count": 25,
   "outputs": [
    {
     "name": "stdout",
     "output_type": "stream",
     "text": [
      "lreg_r2= 0.5545743841367532\n",
      "dummy mean_r2= -7.723054153152553e-05\n",
      "dummy median_r2= -0.01570734921459449\n"
     ]
    }
   ],
   "source": [
    "from sklearn.dummy import DummyRegressor\n",
    "\n",
    "dummy_reg_mean = DummyRegressor(strategy=\"mean\")\n",
    "dummy_reg_median = DummyRegressor(strategy=\"median\")\n",
    "\n",
    "dummy_reg_mean.fit(train_X,train_y)\n",
    "dummy_reg_median.fit(train_X,train_y)\n",
    "\n",
    "mean_predicted= dummy_reg_mean.predict(test_X)\n",
    "median_predicted=dummy_reg_median.predict(test_X)\n",
    "\n",
    "# dtree_r2 = r2_score(test_y, predicted_dtree)\n",
    "mean_r2 = r2_score(test_y, mean_predicted)\n",
    "median_r2 = r2_score(test_y, median_predicted)\n",
    "\n",
    "print(\"lreg_r2=\", r2_mean)\n",
    "print(\"dummy mean_r2=\", mean_r2)\n",
    "print(\"dummy median_r2=\", median_r2)"
   ],
   "metadata": {
    "collapsed": false,
    "ExecuteTime": {
     "end_time": "2023-06-13T14:49:33.984488800Z",
     "start_time": "2023-06-13T14:49:33.979865300Z"
    }
   }
  },
  {
   "cell_type": "code",
   "execution_count": 27,
   "outputs": [
    {
     "data": {
      "text/plain": "       likes_count   view_count\ncount      9316.00      9316.00\nmean     166349.75   5615131.83\nstd      489320.25  20604303.85\nmin          97.00     24022.00\n25%       13361.50    502971.75\n50%       42380.50   1322318.50\n75%      131037.75   3642234.75\nmax    13641573.00 518378576.00",
      "text/html": "<div>\n<style scoped>\n    .dataframe tbody tr th:only-of-type {\n        vertical-align: middle;\n    }\n\n    .dataframe tbody tr th {\n        vertical-align: top;\n    }\n\n    .dataframe thead th {\n        text-align: right;\n    }\n</style>\n<table border=\"1\" class=\"dataframe\">\n  <thead>\n    <tr style=\"text-align: right;\">\n      <th></th>\n      <th>likes_count</th>\n      <th>view_count</th>\n    </tr>\n  </thead>\n  <tbody>\n    <tr>\n      <th>count</th>\n      <td>9316.00</td>\n      <td>9316.00</td>\n    </tr>\n    <tr>\n      <th>mean</th>\n      <td>166349.75</td>\n      <td>5615131.83</td>\n    </tr>\n    <tr>\n      <th>std</th>\n      <td>489320.25</td>\n      <td>20604303.85</td>\n    </tr>\n    <tr>\n      <th>min</th>\n      <td>97.00</td>\n      <td>24022.00</td>\n    </tr>\n    <tr>\n      <th>25%</th>\n      <td>13361.50</td>\n      <td>502971.75</td>\n    </tr>\n    <tr>\n      <th>50%</th>\n      <td>42380.50</td>\n      <td>1322318.50</td>\n    </tr>\n    <tr>\n      <th>75%</th>\n      <td>131037.75</td>\n      <td>3642234.75</td>\n    </tr>\n    <tr>\n      <th>max</th>\n      <td>13641573.00</td>\n      <td>518378576.00</td>\n    </tr>\n  </tbody>\n</table>\n</div>"
     },
     "execution_count": 27,
     "metadata": {},
     "output_type": "execute_result"
    }
   ],
   "source": [
    "pd.options.display.float_format = '{:.2f}'.format\n",
    "test_X.describe()[['likes_count', 'view_count']]"
   ],
   "metadata": {
    "collapsed": false,
    "ExecuteTime": {
     "end_time": "2023-06-13T14:51:20.143195900Z",
     "start_time": "2023-06-13T14:51:20.132558Z"
    }
   }
  },
  {
   "cell_type": "code",
   "execution_count": null,
   "outputs": [],
   "source": [
    "#In statistics, the coefficient of determination, or R-squared, is a measure of how well a model fits a set of data. It is calculated as the ratio of the variance explained by the model to the total variance in the data.\n",
    "r_squared = r2_score(test_y, predicted)\n",
    "r_squared\n",
    "\n",
    "# This means that the linear regression model explains 67.24% of the variance in the data."
   ],
   "metadata": {
    "collapsed": false,
    "ExecuteTime": {
     "start_time": "2023-05-24T18:59:06.745275400Z"
    }
   }
  },
  {
   "cell_type": "code",
   "execution_count": null,
   "outputs": [],
   "source": [
    "from sklearn.metrics import mean_absolute_error\n",
    "\n",
    "#If the MAE is 0, this means that the predicted values are perfectly accurate.\n",
    "mae = mean_absolute_error(test_y, predicted)\n",
    "mae"
   ],
   "metadata": {
    "collapsed": false,
    "ExecuteTime": {
     "start_time": "2023-05-24T18:59:06.746276500Z"
    }
   }
  },
  {
   "cell_type": "code",
   "execution_count": null,
   "outputs": [],
   "source": [
    "df = pd.DataFrame()\n",
    "df['likes_views_ratio']= test_y\n",
    "df['Predicted']=predicted\n",
    "df['Error']=df['likes_views_ratio']-df['Predicted']\n",
    "df"
   ],
   "metadata": {
    "collapsed": false,
    "ExecuteTime": {
     "start_time": "2023-05-24T18:59:06.747277800Z"
    }
   }
  },
  {
   "cell_type": "markdown",
   "source": [
    "Higher mutual information scores indicate a stronger dependency or relevance between the feature and the target variable.\n",
    "You can interpret the scores to identify the most informative features for your KNNRegressor model."
   ],
   "metadata": {
    "collapsed": false
   }
  },
  {
   "cell_type": "code",
   "execution_count": 14,
   "outputs": [
    {
     "name": "stdout",
     "output_type": "stream",
     "text": [
      "view_count: 0.007675722535267493\n",
      "likes_count: 0.008597343431237636\n",
      "comment_count: 0.0\n"
     ]
    }
   ],
   "source": [
    "from sklearn.feature_selection import mutual_info_regression\n",
    "\n",
    "# Calculate the mutual information for each feature\n",
    "mi_scores = mutual_info_regression(train_X, train_y)\n",
    "\n",
    "# Print the mutual information scores\n",
    "for feature, score in zip(train_X.columns, mi_scores):\n",
    "    print(f\"{feature}: {score}\")"
   ],
   "metadata": {
    "collapsed": false,
    "ExecuteTime": {
     "end_time": "2023-05-24T18:59:27.810832300Z",
     "start_time": "2023-05-24T18:59:26.987628300Z"
    }
   }
  },
  {
   "cell_type": "markdown",
   "source": [
    "Positive correlation values indicate a positive relationship between the feature and the target variable,\n",
    "while negative correlation values indicate a negative relationship.\n",
    "Higher absolute correlation values indicate a stronger correlation between the feature and the target variable."
   ],
   "metadata": {
    "collapsed": false
   }
  },
  {
   "cell_type": "code",
   "execution_count": 15,
   "outputs": [
    {
     "name": "stdout",
     "output_type": "stream",
     "text": [
      "view_count: -0.07569412880687132\n",
      "likes_count: 0.10658741039746743\n",
      "comment_count: 0.01519041093722882\n"
     ]
    }
   ],
   "source": [
    "# Concatenate the feature columns and target variable into a single dataframe\n",
    "data = pd.concat([train_X, pd.Series(train_y, name='Target')], axis=1)\n",
    "\n",
    "# Calculate the correlation matrix\n",
    "correlation_matrix = data.corr()\n",
    "\n",
    "# Get the correlation values between features and the target variable\n",
    "target_correlation = correlation_matrix['Target'].drop('Target')\n",
    "\n",
    "# Print the correlation values\n",
    "for feature, correlation in target_correlation.items():\n",
    "    print(f\"{feature}: {correlation}\")"
   ],
   "metadata": {
    "collapsed": false,
    "ExecuteTime": {
     "end_time": "2023-05-24T19:03:12.714376900Z",
     "start_time": "2023-05-24T19:03:12.702366500Z"
    }
   }
  },
  {
   "cell_type": "code",
   "execution_count": null,
   "outputs": [],
   "source": [],
   "metadata": {
    "collapsed": false
   }
  }
 ],
 "metadata": {
  "kernelspec": {
   "display_name": "Python 3",
   "language": "python",
   "name": "python3"
  },
  "language_info": {
   "codemirror_mode": {
    "name": "ipython",
    "version": 2
   },
   "file_extension": ".py",
   "mimetype": "text/x-python",
   "name": "python",
   "nbconvert_exporter": "python",
   "pygments_lexer": "ipython2",
   "version": "2.7.6"
  }
 },
 "nbformat": 4,
 "nbformat_minor": 0
}
