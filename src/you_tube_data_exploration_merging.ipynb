{
 "cells": [
  {
   "cell_type": "markdown",
   "source": [
    "Author: Shailendra Chalasani\n",
    "Intention: Clean dataset youtube dislike dataset\n",
    "           Clean and merge youtube stats dataset"
   ],
   "metadata": {
    "collapsed": false
   }
  },
  {
   "cell_type": "code",
   "execution_count": 25,
   "outputs": [],
   "source": [
    "import pandas as pd\n",
    "\n",
    "import re\n",
    "import string"
   ],
   "metadata": {
    "collapsed": false,
    "ExecuteTime": {
     "end_time": "2023-05-15T14:20:16.051194Z",
     "start_time": "2023-05-15T14:20:16.039166500Z"
    }
   }
  },
  {
   "cell_type": "code",
   "execution_count": 26,
   "outputs": [
    {
     "data": {
      "text/plain": "          video_id                                           comments  Likes   \n0      wAZZ-UWGVHI  Let's not forget that Apple Pay in 2014 requir...   95.0  \\\n1      wAZZ-UWGVHI  Here in NZ 50% of retailers don’t even have co...   19.0   \n2      wAZZ-UWGVHI  I will forever acknowledge this channel with t...  161.0   \n3      wAZZ-UWGVHI  Whenever I go to a place that doesn’t take App...    8.0   \n4      wAZZ-UWGVHI  Apple Pay is so convenient, secure, and easy t...   34.0   \n...            ...                                                ...    ...   \n18404  cyLWtMSry58  I really like the point about engineering tool...    0.0   \n18405  cyLWtMSry58  I’ve just started exploring this field. And th...   20.0   \n18406  cyLWtMSry58  Excelente video con una pregunta filosófica pr...    1.0   \n18407  cyLWtMSry58  Hey Daniel, just discovered your channel a cou...   35.0   \n18408  cyLWtMSry58  This is great. Focus is key. A playful approac...    0.0   \n\n       Sentiment  \n0            1.0  \n1            0.0  \n2            2.0  \n3            0.0  \n4            2.0  \n...          ...  \n18404        2.0  \n18405        2.0  \n18406        1.0  \n18407        2.0  \n18408        2.0  \n\n[18409 rows x 4 columns]",
      "text/html": "<div>\n<style scoped>\n    .dataframe tbody tr th:only-of-type {\n        vertical-align: middle;\n    }\n\n    .dataframe tbody tr th {\n        vertical-align: top;\n    }\n\n    .dataframe thead th {\n        text-align: right;\n    }\n</style>\n<table border=\"1\" class=\"dataframe\">\n  <thead>\n    <tr style=\"text-align: right;\">\n      <th></th>\n      <th>video_id</th>\n      <th>comments</th>\n      <th>Likes</th>\n      <th>Sentiment</th>\n    </tr>\n  </thead>\n  <tbody>\n    <tr>\n      <th>0</th>\n      <td>wAZZ-UWGVHI</td>\n      <td>Let's not forget that Apple Pay in 2014 requir...</td>\n      <td>95.0</td>\n      <td>1.0</td>\n    </tr>\n    <tr>\n      <th>1</th>\n      <td>wAZZ-UWGVHI</td>\n      <td>Here in NZ 50% of retailers don’t even have co...</td>\n      <td>19.0</td>\n      <td>0.0</td>\n    </tr>\n    <tr>\n      <th>2</th>\n      <td>wAZZ-UWGVHI</td>\n      <td>I will forever acknowledge this channel with t...</td>\n      <td>161.0</td>\n      <td>2.0</td>\n    </tr>\n    <tr>\n      <th>3</th>\n      <td>wAZZ-UWGVHI</td>\n      <td>Whenever I go to a place that doesn’t take App...</td>\n      <td>8.0</td>\n      <td>0.0</td>\n    </tr>\n    <tr>\n      <th>4</th>\n      <td>wAZZ-UWGVHI</td>\n      <td>Apple Pay is so convenient, secure, and easy t...</td>\n      <td>34.0</td>\n      <td>2.0</td>\n    </tr>\n    <tr>\n      <th>...</th>\n      <td>...</td>\n      <td>...</td>\n      <td>...</td>\n      <td>...</td>\n    </tr>\n    <tr>\n      <th>18404</th>\n      <td>cyLWtMSry58</td>\n      <td>I really like the point about engineering tool...</td>\n      <td>0.0</td>\n      <td>2.0</td>\n    </tr>\n    <tr>\n      <th>18405</th>\n      <td>cyLWtMSry58</td>\n      <td>I’ve just started exploring this field. And th...</td>\n      <td>20.0</td>\n      <td>2.0</td>\n    </tr>\n    <tr>\n      <th>18406</th>\n      <td>cyLWtMSry58</td>\n      <td>Excelente video con una pregunta filosófica pr...</td>\n      <td>1.0</td>\n      <td>1.0</td>\n    </tr>\n    <tr>\n      <th>18407</th>\n      <td>cyLWtMSry58</td>\n      <td>Hey Daniel, just discovered your channel a cou...</td>\n      <td>35.0</td>\n      <td>2.0</td>\n    </tr>\n    <tr>\n      <th>18408</th>\n      <td>cyLWtMSry58</td>\n      <td>This is great. Focus is key. A playful approac...</td>\n      <td>0.0</td>\n      <td>2.0</td>\n    </tr>\n  </tbody>\n</table>\n<p>18409 rows × 4 columns</p>\n</div>"
     },
     "execution_count": 26,
     "metadata": {},
     "output_type": "execute_result"
    }
   ],
   "source": [
    "df_video_stats = pd.read_csv(f\"../data/you_tube_stats/videos-stats.csv\")\n",
    "df_video_stats=df_video_stats.drop(['Unnamed: 0', 'Keyword'],axis=1)\n",
    "df_video_stats = df_video_stats.rename(columns={\"Video ID\": \"video_id\", \"Title\":\"title\",  \"Published At\": \"published_at\", \"Likes\":\"likes_count\",\n",
    "                                                \"Comments\":\"comment_count\", \"Views\":\"view_count\"})\n",
    "\n",
    "df_video_comments = pd.read_csv(f\"../data/you_tube_stats/comments.csv\")\n",
    "df_video_comments=df_video_comments.drop('Unnamed: 0',axis=1)\n",
    "df_video_comments = df_video_comments.rename(columns={\"Video ID\": \"video_id\", \"Comment\":\"comments\"})\n",
    "\n",
    "# df_merged =pd.merge(df_video_stats, df_video_comments, on='video_id')\n",
    "df_video_comments"
   ],
   "metadata": {
    "collapsed": false,
    "ExecuteTime": {
     "end_time": "2023-05-15T14:20:16.111996700Z",
     "start_time": "2023-05-15T14:20:16.042679200Z"
    }
   }
  },
  {
   "cell_type": "code",
   "execution_count": 27,
   "outputs": [
    {
     "data": {
      "text/plain": "                                                      comments\nvideo_id                                                      \n--ZI0dSbbNU  He’s so happy while eating because he can see ...\n--hxd1CrOqg  It’s really unfortunate that the intended targ...\n--ixiTypG8g  The biggest problem is colleges charging outra...\n-64r1hcxtV4  8:20- 10:00 ..... *what are your thoughts abou...\n-6IgkG5yZfo  Hope this will make your life easier..\\n\\n\\n00...\n...                                                        ...\nzvS8Fmxv1_U  As far as the weather, this is absolutely craz...\nzvkDF3Hvq-0  Wow, el comportamiento de ambas partes fue muy...\nzxYjTTXc-J8  Subscribe and you could be flown down for one ...\nzxtl5ExJmag  Just because the song is called Bed doesn't me...\nzzUn1prQ5Ps  \"The Party instructed you to reject the eviden...\n\n[1869 rows x 1 columns]",
      "text/html": "<div>\n<style scoped>\n    .dataframe tbody tr th:only-of-type {\n        vertical-align: middle;\n    }\n\n    .dataframe tbody tr th {\n        vertical-align: top;\n    }\n\n    .dataframe thead th {\n        text-align: right;\n    }\n</style>\n<table border=\"1\" class=\"dataframe\">\n  <thead>\n    <tr style=\"text-align: right;\">\n      <th></th>\n      <th>comments</th>\n    </tr>\n    <tr>\n      <th>video_id</th>\n      <th></th>\n    </tr>\n  </thead>\n  <tbody>\n    <tr>\n      <th>--ZI0dSbbNU</th>\n      <td>He’s so happy while eating because he can see ...</td>\n    </tr>\n    <tr>\n      <th>--hxd1CrOqg</th>\n      <td>It’s really unfortunate that the intended targ...</td>\n    </tr>\n    <tr>\n      <th>--ixiTypG8g</th>\n      <td>The biggest problem is colleges charging outra...</td>\n    </tr>\n    <tr>\n      <th>-64r1hcxtV4</th>\n      <td>8:20- 10:00 ..... *what are your thoughts abou...</td>\n    </tr>\n    <tr>\n      <th>-6IgkG5yZfo</th>\n      <td>Hope this will make your life easier..\\n\\n\\n00...</td>\n    </tr>\n    <tr>\n      <th>...</th>\n      <td>...</td>\n    </tr>\n    <tr>\n      <th>zvS8Fmxv1_U</th>\n      <td>As far as the weather, this is absolutely craz...</td>\n    </tr>\n    <tr>\n      <th>zvkDF3Hvq-0</th>\n      <td>Wow, el comportamiento de ambas partes fue muy...</td>\n    </tr>\n    <tr>\n      <th>zxYjTTXc-J8</th>\n      <td>Subscribe and you could be flown down for one ...</td>\n    </tr>\n    <tr>\n      <th>zxtl5ExJmag</th>\n      <td>Just because the song is called Bed doesn't me...</td>\n    </tr>\n    <tr>\n      <th>zzUn1prQ5Ps</th>\n      <td>\"The Party instructed you to reject the eviden...</td>\n    </tr>\n  </tbody>\n</table>\n<p>1869 rows × 1 columns</p>\n</div>"
     },
     "execution_count": 27,
     "metadata": {},
     "output_type": "execute_result"
    }
   ],
   "source": [
    "# combine all comments for video into one row and merge dataframes\n",
    "df_video_comments = df_video_comments[['video_id','comments']]\n",
    "df_video_comments = df_video_comments.groupby('video_id').agg(lambda x: x)\n",
    "df_video_comments['comments'] = df_video_comments['comments'].apply(lambda x: ' '.join(map(str, x)))\n",
    "\n",
    "#merge video stats with comments\n",
    "\n",
    "df_video_comments"
   ],
   "metadata": {
    "collapsed": false,
    "ExecuteTime": {
     "end_time": "2023-05-15T14:20:16.186455800Z",
     "start_time": "2023-05-15T14:20:16.113998900Z"
    }
   }
  },
  {
   "cell_type": "code",
   "execution_count": 29,
   "outputs": [
    {
     "data": {
      "text/plain": "Index(['title', 'video_id', 'published_at', 'likes_count', 'comment_count',\n       'view_count', 'comments'],\n      dtype='object')"
     },
     "execution_count": 29,
     "metadata": {},
     "output_type": "execute_result"
    }
   ],
   "source": [
    "df_merged =pd.merge(df_video_stats, df_video_comments, on='video_id')\n",
    "df_merged.columns"
   ],
   "metadata": {
    "collapsed": false,
    "ExecuteTime": {
     "end_time": "2023-05-15T14:20:20.085928200Z",
     "start_time": "2023-05-15T14:20:20.079718600Z"
    }
   }
  },
  {
   "cell_type": "code",
   "execution_count": 33,
   "outputs": [
    {
     "data": {
      "text/plain": "Index(['video_id', 'title', 'published_at', 'view_count', 'likes_count',\n       'dislikes_count', 'comment_count', 'tags', 'description', 'comments'],\n      dtype='object')"
     },
     "execution_count": 33,
     "metadata": {},
     "output_type": "execute_result"
    }
   ],
   "source": [
    "df_video_dislikes = pd.read_csv(f\"../data/you_tube_dislike_dataset/youtube_dislike_dataset.csv\")\n",
    "df_video_dislikes=df_video_dislikes.drop(['channel_id', 'channel_title'],axis=1)\n",
    "df_video_dislikes = df_video_dislikes.rename(columns={  \"likes\":\"likes_count\", \"dislikes\":\"dislikes_count\"})\n",
    "df_video_dislikes.columns"
   ],
   "metadata": {
    "collapsed": false,
    "ExecuteTime": {
     "end_time": "2023-05-15T14:33:48.401828400Z",
     "start_time": "2023-05-15T14:33:47.147063300Z"
    }
   }
  },
  {
   "cell_type": "code",
   "execution_count": 38,
   "outputs": [],
   "source": [],
   "metadata": {
    "collapsed": false,
    "ExecuteTime": {
     "end_time": "2023-05-08T18:14:33.515960600Z",
     "start_time": "2023-05-08T18:14:33.502166600Z"
    }
   }
  },
  {
   "cell_type": "code",
   "execution_count": 34,
   "outputs": [],
   "source": [
    "df_merged.to_csv('../data/cleaned_datasets/df_video_stats.csv')\n",
    "df_video_dislikes.to_csv('../data/cleaned_datasets/df_video_dislikes.csv')"
   ],
   "metadata": {
    "collapsed": false,
    "ExecuteTime": {
     "end_time": "2023-05-15T14:33:55.404621100Z",
     "start_time": "2023-05-15T14:33:53.159420500Z"
    }
   }
  },
  {
   "cell_type": "code",
   "execution_count": null,
   "outputs": [],
   "source": [],
   "metadata": {
    "collapsed": false
   }
  }
 ],
 "metadata": {
  "kernelspec": {
   "display_name": "Python 3",
   "language": "python",
   "name": "python3"
  },
  "language_info": {
   "codemirror_mode": {
    "name": "ipython",
    "version": 2
   },
   "file_extension": ".py",
   "mimetype": "text/x-python",
   "name": "python",
   "nbconvert_exporter": "python",
   "pygments_lexer": "ipython2",
   "version": "2.7.6"
  }
 },
 "nbformat": 4,
 "nbformat_minor": 0
}
